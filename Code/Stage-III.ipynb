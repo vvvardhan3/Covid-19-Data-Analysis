{
 "cells": [
  {
   "cell_type": "markdown",
   "metadata": {},
   "source": [
    "**Importing packages**"
   ]
  },
  {
   "cell_type": "code",
   "execution_count": 54,
   "metadata": {},
   "outputs": [],
   "source": [
    "import pandas as pd\n",
    "import numpy as np\n",
    "import seaborn as sns\n",
    "import matplotlib.pyplot as plt\n",
    "from datetime import date\n",
    "import plotly.express as px\n",
    "from sklearn.model_selection import train_test_split\n",
    "from sklearn.metrics import mean_squared_error\n",
    "from math import sqrt\n",
    "import sklearn.metrics as metrics\n",
    "from sklearn.linear_model import LinearRegression\n",
    "from sklearn.preprocessing import PolynomialFeatures\n",
    "import scipy.stats as stats"
   ]
  },
  {
   "cell_type": "markdown",
   "metadata": {},
   "source": [
    "**Reading data**"
   ]
  },
  {
   "cell_type": "code",
   "execution_count": 55,
   "metadata": {},
   "outputs": [
    {
     "data": {
      "text/html": [
       "<div>\n",
       "<style scoped>\n",
       "    .dataframe tbody tr th:only-of-type {\n",
       "        vertical-align: middle;\n",
       "    }\n",
       "\n",
       "    .dataframe tbody tr th {\n",
       "        vertical-align: top;\n",
       "    }\n",
       "\n",
       "    .dataframe thead th {\n",
       "        text-align: right;\n",
       "    }\n",
       "</style>\n",
       "<table border=\"1\" class=\"dataframe\">\n",
       "  <thead>\n",
       "    <tr style=\"text-align: right;\">\n",
       "      <th></th>\n",
       "      <th>countyFIPS</th>\n",
       "      <th>County Name</th>\n",
       "      <th>State</th>\n",
       "      <th>StateFIPS</th>\n",
       "      <th>date</th>\n",
       "      <th>confirmed</th>\n",
       "      <th>deaths</th>\n",
       "      <th>population</th>\n",
       "    </tr>\n",
       "  </thead>\n",
       "  <tbody>\n",
       "    <tr>\n",
       "      <th>0</th>\n",
       "      <td>0</td>\n",
       "      <td>statewide unallocated</td>\n",
       "      <td>AL</td>\n",
       "      <td>1</td>\n",
       "      <td>2020-01-22</td>\n",
       "      <td>0</td>\n",
       "      <td>0</td>\n",
       "      <td>0</td>\n",
       "    </tr>\n",
       "    <tr>\n",
       "      <th>1</th>\n",
       "      <td>0</td>\n",
       "      <td>statewide unallocated</td>\n",
       "      <td>AL</td>\n",
       "      <td>1</td>\n",
       "      <td>2020-01-23</td>\n",
       "      <td>0</td>\n",
       "      <td>0</td>\n",
       "      <td>0</td>\n",
       "    </tr>\n",
       "    <tr>\n",
       "      <th>2</th>\n",
       "      <td>0</td>\n",
       "      <td>statewide unallocated</td>\n",
       "      <td>AL</td>\n",
       "      <td>1</td>\n",
       "      <td>2020-01-24</td>\n",
       "      <td>0</td>\n",
       "      <td>0</td>\n",
       "      <td>0</td>\n",
       "    </tr>\n",
       "    <tr>\n",
       "      <th>3</th>\n",
       "      <td>0</td>\n",
       "      <td>statewide unallocated</td>\n",
       "      <td>AL</td>\n",
       "      <td>1</td>\n",
       "      <td>2020-01-25</td>\n",
       "      <td>0</td>\n",
       "      <td>0</td>\n",
       "      <td>0</td>\n",
       "    </tr>\n",
       "    <tr>\n",
       "      <th>4</th>\n",
       "      <td>0</td>\n",
       "      <td>statewide unallocated</td>\n",
       "      <td>AL</td>\n",
       "      <td>1</td>\n",
       "      <td>2020-01-26</td>\n",
       "      <td>0</td>\n",
       "      <td>0</td>\n",
       "      <td>0</td>\n",
       "    </tr>\n",
       "    <tr>\n",
       "      <th>...</th>\n",
       "      <td>...</td>\n",
       "      <td>...</td>\n",
       "      <td>...</td>\n",
       "      <td>...</td>\n",
       "      <td>...</td>\n",
       "      <td>...</td>\n",
       "      <td>...</td>\n",
       "      <td>...</td>\n",
       "    </tr>\n",
       "    <tr>\n",
       "      <th>1797496</th>\n",
       "      <td>56045</td>\n",
       "      <td>weston county</td>\n",
       "      <td>WY</td>\n",
       "      <td>56</td>\n",
       "      <td>2021-08-12</td>\n",
       "      <td>700</td>\n",
       "      <td>6</td>\n",
       "      <td>6927</td>\n",
       "    </tr>\n",
       "    <tr>\n",
       "      <th>1797497</th>\n",
       "      <td>56045</td>\n",
       "      <td>weston county</td>\n",
       "      <td>WY</td>\n",
       "      <td>56</td>\n",
       "      <td>2021-08-13</td>\n",
       "      <td>700</td>\n",
       "      <td>6</td>\n",
       "      <td>6927</td>\n",
       "    </tr>\n",
       "    <tr>\n",
       "      <th>1797498</th>\n",
       "      <td>56045</td>\n",
       "      <td>weston county</td>\n",
       "      <td>WY</td>\n",
       "      <td>56</td>\n",
       "      <td>2021-08-14</td>\n",
       "      <td>705</td>\n",
       "      <td>6</td>\n",
       "      <td>6927</td>\n",
       "    </tr>\n",
       "    <tr>\n",
       "      <th>1797499</th>\n",
       "      <td>56045</td>\n",
       "      <td>weston county</td>\n",
       "      <td>WY</td>\n",
       "      <td>56</td>\n",
       "      <td>2021-08-15</td>\n",
       "      <td>705</td>\n",
       "      <td>6</td>\n",
       "      <td>6927</td>\n",
       "    </tr>\n",
       "    <tr>\n",
       "      <th>1797500</th>\n",
       "      <td>56045</td>\n",
       "      <td>weston county</td>\n",
       "      <td>WY</td>\n",
       "      <td>56</td>\n",
       "      <td>2021-08-16</td>\n",
       "      <td>705</td>\n",
       "      <td>6</td>\n",
       "      <td>6927</td>\n",
       "    </tr>\n",
       "  </tbody>\n",
       "</table>\n",
       "<p>1797501 rows × 8 columns</p>\n",
       "</div>"
      ],
      "text/plain": [
       "         countyFIPS            County Name State  StateFIPS       date  \\\n",
       "0                 0  statewide unallocated    AL          1 2020-01-22   \n",
       "1                 0  statewide unallocated    AL          1 2020-01-23   \n",
       "2                 0  statewide unallocated    AL          1 2020-01-24   \n",
       "3                 0  statewide unallocated    AL          1 2020-01-25   \n",
       "4                 0  statewide unallocated    AL          1 2020-01-26   \n",
       "...             ...                    ...   ...        ...        ...   \n",
       "1797496       56045          weston county    WY         56 2021-08-12   \n",
       "1797497       56045          weston county    WY         56 2021-08-13   \n",
       "1797498       56045          weston county    WY         56 2021-08-14   \n",
       "1797499       56045          weston county    WY         56 2021-08-15   \n",
       "1797500       56045          weston county    WY         56 2021-08-16   \n",
       "\n",
       "         confirmed  deaths  population  \n",
       "0                0       0           0  \n",
       "1                0       0           0  \n",
       "2                0       0           0  \n",
       "3                0       0           0  \n",
       "4                0       0           0  \n",
       "...            ...     ...         ...  \n",
       "1797496        700       6        6927  \n",
       "1797497        700       6        6927  \n",
       "1797498        705       6        6927  \n",
       "1797499        705       6        6927  \n",
       "1797500        705       6        6927  \n",
       "\n",
       "[1797501 rows x 8 columns]"
      ]
     },
     "execution_count": 55,
     "metadata": {},
     "output_type": "execute_result"
    }
   ],
   "source": [
    "final_data=pd.read_parquet('../../../data/final_covid_data.parquet.gzip', engine='pyarrow')\n",
    "final_data"
   ]
  },
  {
   "cell_type": "markdown",
   "metadata": {},
   "source": [
    "**Removing unallocated Statewide data**"
   ]
  },
  {
   "cell_type": "code",
   "execution_count": 56,
   "metadata": {},
   "outputs": [
    {
     "data": {
      "text/html": [
       "<div>\n",
       "<style scoped>\n",
       "    .dataframe tbody tr th:only-of-type {\n",
       "        vertical-align: middle;\n",
       "    }\n",
       "\n",
       "    .dataframe tbody tr th {\n",
       "        vertical-align: top;\n",
       "    }\n",
       "\n",
       "    .dataframe thead th {\n",
       "        text-align: right;\n",
       "    }\n",
       "</style>\n",
       "<table border=\"1\" class=\"dataframe\">\n",
       "  <thead>\n",
       "    <tr style=\"text-align: right;\">\n",
       "      <th></th>\n",
       "      <th>countyFIPS</th>\n",
       "      <th>County Name</th>\n",
       "      <th>State</th>\n",
       "      <th>StateFIPS</th>\n",
       "      <th>date</th>\n",
       "      <th>confirmed</th>\n",
       "      <th>deaths</th>\n",
       "      <th>population</th>\n",
       "    </tr>\n",
       "  </thead>\n",
       "  <tbody>\n",
       "    <tr>\n",
       "      <th>573</th>\n",
       "      <td>1001</td>\n",
       "      <td>autauga county</td>\n",
       "      <td>AL</td>\n",
       "      <td>1</td>\n",
       "      <td>2020-01-22</td>\n",
       "      <td>0</td>\n",
       "      <td>0</td>\n",
       "      <td>55869</td>\n",
       "    </tr>\n",
       "    <tr>\n",
       "      <th>574</th>\n",
       "      <td>1001</td>\n",
       "      <td>autauga county</td>\n",
       "      <td>AL</td>\n",
       "      <td>1</td>\n",
       "      <td>2020-01-23</td>\n",
       "      <td>0</td>\n",
       "      <td>0</td>\n",
       "      <td>55869</td>\n",
       "    </tr>\n",
       "    <tr>\n",
       "      <th>575</th>\n",
       "      <td>1001</td>\n",
       "      <td>autauga county</td>\n",
       "      <td>AL</td>\n",
       "      <td>1</td>\n",
       "      <td>2020-01-24</td>\n",
       "      <td>0</td>\n",
       "      <td>0</td>\n",
       "      <td>55869</td>\n",
       "    </tr>\n",
       "    <tr>\n",
       "      <th>576</th>\n",
       "      <td>1001</td>\n",
       "      <td>autauga county</td>\n",
       "      <td>AL</td>\n",
       "      <td>1</td>\n",
       "      <td>2020-01-25</td>\n",
       "      <td>0</td>\n",
       "      <td>0</td>\n",
       "      <td>55869</td>\n",
       "    </tr>\n",
       "    <tr>\n",
       "      <th>577</th>\n",
       "      <td>1001</td>\n",
       "      <td>autauga county</td>\n",
       "      <td>AL</td>\n",
       "      <td>1</td>\n",
       "      <td>2020-01-26</td>\n",
       "      <td>0</td>\n",
       "      <td>0</td>\n",
       "      <td>55869</td>\n",
       "    </tr>\n",
       "    <tr>\n",
       "      <th>...</th>\n",
       "      <td>...</td>\n",
       "      <td>...</td>\n",
       "      <td>...</td>\n",
       "      <td>...</td>\n",
       "      <td>...</td>\n",
       "      <td>...</td>\n",
       "      <td>...</td>\n",
       "      <td>...</td>\n",
       "    </tr>\n",
       "    <tr>\n",
       "      <th>1797496</th>\n",
       "      <td>56045</td>\n",
       "      <td>weston county</td>\n",
       "      <td>WY</td>\n",
       "      <td>56</td>\n",
       "      <td>2021-08-12</td>\n",
       "      <td>700</td>\n",
       "      <td>6</td>\n",
       "      <td>6927</td>\n",
       "    </tr>\n",
       "    <tr>\n",
       "      <th>1797497</th>\n",
       "      <td>56045</td>\n",
       "      <td>weston county</td>\n",
       "      <td>WY</td>\n",
       "      <td>56</td>\n",
       "      <td>2021-08-13</td>\n",
       "      <td>700</td>\n",
       "      <td>6</td>\n",
       "      <td>6927</td>\n",
       "    </tr>\n",
       "    <tr>\n",
       "      <th>1797498</th>\n",
       "      <td>56045</td>\n",
       "      <td>weston county</td>\n",
       "      <td>WY</td>\n",
       "      <td>56</td>\n",
       "      <td>2021-08-14</td>\n",
       "      <td>705</td>\n",
       "      <td>6</td>\n",
       "      <td>6927</td>\n",
       "    </tr>\n",
       "    <tr>\n",
       "      <th>1797499</th>\n",
       "      <td>56045</td>\n",
       "      <td>weston county</td>\n",
       "      <td>WY</td>\n",
       "      <td>56</td>\n",
       "      <td>2021-08-15</td>\n",
       "      <td>705</td>\n",
       "      <td>6</td>\n",
       "      <td>6927</td>\n",
       "    </tr>\n",
       "    <tr>\n",
       "      <th>1797500</th>\n",
       "      <td>56045</td>\n",
       "      <td>weston county</td>\n",
       "      <td>WY</td>\n",
       "      <td>56</td>\n",
       "      <td>2021-08-16</td>\n",
       "      <td>705</td>\n",
       "      <td>6</td>\n",
       "      <td>6927</td>\n",
       "    </tr>\n",
       "  </tbody>\n",
       "</table>\n",
       "<p>1768851 rows × 8 columns</p>\n",
       "</div>"
      ],
      "text/plain": [
       "         countyFIPS     County Name State  StateFIPS       date  confirmed  \\\n",
       "573            1001  autauga county    AL          1 2020-01-22          0   \n",
       "574            1001  autauga county    AL          1 2020-01-23          0   \n",
       "575            1001  autauga county    AL          1 2020-01-24          0   \n",
       "576            1001  autauga county    AL          1 2020-01-25          0   \n",
       "577            1001  autauga county    AL          1 2020-01-26          0   \n",
       "...             ...             ...   ...        ...        ...        ...   \n",
       "1797496       56045   weston county    WY         56 2021-08-12        700   \n",
       "1797497       56045   weston county    WY         56 2021-08-13        700   \n",
       "1797498       56045   weston county    WY         56 2021-08-14        705   \n",
       "1797499       56045   weston county    WY         56 2021-08-15        705   \n",
       "1797500       56045   weston county    WY         56 2021-08-16        705   \n",
       "\n",
       "         deaths  population  \n",
       "573           0       55869  \n",
       "574           0       55869  \n",
       "575           0       55869  \n",
       "576           0       55869  \n",
       "577           0       55869  \n",
       "...         ...         ...  \n",
       "1797496       6        6927  \n",
       "1797497       6        6927  \n",
       "1797498       6        6927  \n",
       "1797499       6        6927  \n",
       "1797500       6        6927  \n",
       "\n",
       "[1768851 rows x 8 columns]"
      ]
     },
     "execution_count": 56,
     "metadata": {},
     "output_type": "execute_result"
    }
   ],
   "source": [
    "#Selecting data by county name == statewide unallocated\n",
    "final_data=final_data[final_data['County Name']!='statewide unallocated']\n",
    "final_data"
   ]
  },
  {
   "cell_type": "markdown",
   "metadata": {},
   "source": [
    "**Selecting Michigan**\n"
   ]
  },
  {
   "cell_type": "code",
   "execution_count": 57,
   "metadata": {},
   "outputs": [
    {
     "data": {
      "text/html": [
       "<div>\n",
       "<style scoped>\n",
       "    .dataframe tbody tr th:only-of-type {\n",
       "        vertical-align: middle;\n",
       "    }\n",
       "\n",
       "    .dataframe tbody tr th {\n",
       "        vertical-align: top;\n",
       "    }\n",
       "\n",
       "    .dataframe thead th {\n",
       "        text-align: right;\n",
       "    }\n",
       "</style>\n",
       "<table border=\"1\" class=\"dataframe\">\n",
       "  <thead>\n",
       "    <tr style=\"text-align: right;\">\n",
       "      <th></th>\n",
       "      <th>State</th>\n",
       "      <th>date</th>\n",
       "      <th>confirmed</th>\n",
       "      <th>deaths</th>\n",
       "    </tr>\n",
       "  </thead>\n",
       "  <tbody>\n",
       "    <tr>\n",
       "      <th>0</th>\n",
       "      <td>MI</td>\n",
       "      <td>2020-01-22</td>\n",
       "      <td>0</td>\n",
       "      <td>0</td>\n",
       "    </tr>\n",
       "    <tr>\n",
       "      <th>1</th>\n",
       "      <td>MI</td>\n",
       "      <td>2020-01-23</td>\n",
       "      <td>0</td>\n",
       "      <td>0</td>\n",
       "    </tr>\n",
       "    <tr>\n",
       "      <th>2</th>\n",
       "      <td>MI</td>\n",
       "      <td>2020-01-24</td>\n",
       "      <td>0</td>\n",
       "      <td>0</td>\n",
       "    </tr>\n",
       "    <tr>\n",
       "      <th>3</th>\n",
       "      <td>MI</td>\n",
       "      <td>2020-01-25</td>\n",
       "      <td>0</td>\n",
       "      <td>0</td>\n",
       "    </tr>\n",
       "    <tr>\n",
       "      <th>4</th>\n",
       "      <td>MI</td>\n",
       "      <td>2020-01-26</td>\n",
       "      <td>0</td>\n",
       "      <td>0</td>\n",
       "    </tr>\n",
       "    <tr>\n",
       "      <th>...</th>\n",
       "      <td>...</td>\n",
       "      <td>...</td>\n",
       "      <td>...</td>\n",
       "      <td>...</td>\n",
       "    </tr>\n",
       "    <tr>\n",
       "      <th>568</th>\n",
       "      <td>MI</td>\n",
       "      <td>2021-08-12</td>\n",
       "      <td>996091</td>\n",
       "      <td>21078</td>\n",
       "    </tr>\n",
       "    <tr>\n",
       "      <th>569</th>\n",
       "      <td>MI</td>\n",
       "      <td>2021-08-13</td>\n",
       "      <td>999700</td>\n",
       "      <td>21110</td>\n",
       "    </tr>\n",
       "    <tr>\n",
       "      <th>570</th>\n",
       "      <td>MI</td>\n",
       "      <td>2021-08-14</td>\n",
       "      <td>999700</td>\n",
       "      <td>21110</td>\n",
       "    </tr>\n",
       "    <tr>\n",
       "      <th>571</th>\n",
       "      <td>MI</td>\n",
       "      <td>2021-08-15</td>\n",
       "      <td>999700</td>\n",
       "      <td>21110</td>\n",
       "    </tr>\n",
       "    <tr>\n",
       "      <th>572</th>\n",
       "      <td>MI</td>\n",
       "      <td>2021-08-16</td>\n",
       "      <td>1003555</td>\n",
       "      <td>21130</td>\n",
       "    </tr>\n",
       "  </tbody>\n",
       "</table>\n",
       "<p>573 rows × 4 columns</p>\n",
       "</div>"
      ],
      "text/plain": [
       "    State       date  confirmed  deaths\n",
       "0      MI 2020-01-22          0       0\n",
       "1      MI 2020-01-23          0       0\n",
       "2      MI 2020-01-24          0       0\n",
       "3      MI 2020-01-25          0       0\n",
       "4      MI 2020-01-26          0       0\n",
       "..    ...        ...        ...     ...\n",
       "568    MI 2021-08-12     996091   21078\n",
       "569    MI 2021-08-13     999700   21110\n",
       "570    MI 2021-08-14     999700   21110\n",
       "571    MI 2021-08-15     999700   21110\n",
       "572    MI 2021-08-16    1003555   21130\n",
       "\n",
       "[573 rows x 4 columns]"
      ]
     },
     "execution_count": 57,
     "metadata": {},
     "output_type": "execute_result"
    }
   ],
   "source": [
    "#Selecting data by state == Michigan\n",
    "MI_covid_details=final_data[final_data['State']=='MI']\n",
    "MI_covid_details=MI_covid_details.groupby([\"State\",\"date\"]).sum().reset_index().drop(columns=['countyFIPS','population','StateFIPS'])\n",
    "MI_covid_details"
   ]
  },
  {
   "cell_type": "code",
   "execution_count": 58,
   "metadata": {},
   "outputs": [
    {
     "name": "stdout",
     "output_type": "stream",
     "text": [
      "0      False\n",
      "1      False\n",
      "2      False\n",
      "3      False\n",
      "4      False\n",
      "       ...  \n",
      "568     True\n",
      "569     True\n",
      "570     True\n",
      "571     True\n",
      "572     True\n",
      "Name: confirmed, Length: 573, dtype: bool\n"
     ]
    }
   ],
   "source": [
    "print(MI_covid_details['confirmed']>0)"
   ]
  },
  {
   "cell_type": "code",
   "execution_count": 59,
   "metadata": {},
   "outputs": [],
   "source": [
    "data=MI_covid_details[ (MI_covid_details['confirmed'] > 0)]"
   ]
  },
  {
   "cell_type": "code",
   "execution_count": 60,
   "metadata": {},
   "outputs": [
    {
     "data": {
      "text/html": [
       "<div>\n",
       "<style scoped>\n",
       "    .dataframe tbody tr th:only-of-type {\n",
       "        vertical-align: middle;\n",
       "    }\n",
       "\n",
       "    .dataframe tbody tr th {\n",
       "        vertical-align: top;\n",
       "    }\n",
       "\n",
       "    .dataframe thead th {\n",
       "        text-align: right;\n",
       "    }\n",
       "</style>\n",
       "<table border=\"1\" class=\"dataframe\">\n",
       "  <thead>\n",
       "    <tr style=\"text-align: right;\">\n",
       "      <th></th>\n",
       "      <th>State</th>\n",
       "      <th>date</th>\n",
       "      <th>confirmed</th>\n",
       "      <th>deaths</th>\n",
       "    </tr>\n",
       "  </thead>\n",
       "  <tbody>\n",
       "    <tr>\n",
       "      <th>48</th>\n",
       "      <td>MI</td>\n",
       "      <td>2020-03-10</td>\n",
       "      <td>2</td>\n",
       "      <td>0</td>\n",
       "    </tr>\n",
       "    <tr>\n",
       "      <th>49</th>\n",
       "      <td>MI</td>\n",
       "      <td>2020-03-11</td>\n",
       "      <td>2</td>\n",
       "      <td>0</td>\n",
       "    </tr>\n",
       "    <tr>\n",
       "      <th>50</th>\n",
       "      <td>MI</td>\n",
       "      <td>2020-03-12</td>\n",
       "      <td>12</td>\n",
       "      <td>0</td>\n",
       "    </tr>\n",
       "    <tr>\n",
       "      <th>51</th>\n",
       "      <td>MI</td>\n",
       "      <td>2020-03-13</td>\n",
       "      <td>24</td>\n",
       "      <td>0</td>\n",
       "    </tr>\n",
       "    <tr>\n",
       "      <th>52</th>\n",
       "      <td>MI</td>\n",
       "      <td>2020-03-14</td>\n",
       "      <td>32</td>\n",
       "      <td>0</td>\n",
       "    </tr>\n",
       "    <tr>\n",
       "      <th>...</th>\n",
       "      <td>...</td>\n",
       "      <td>...</td>\n",
       "      <td>...</td>\n",
       "      <td>...</td>\n",
       "    </tr>\n",
       "    <tr>\n",
       "      <th>568</th>\n",
       "      <td>MI</td>\n",
       "      <td>2021-08-12</td>\n",
       "      <td>996091</td>\n",
       "      <td>21078</td>\n",
       "    </tr>\n",
       "    <tr>\n",
       "      <th>569</th>\n",
       "      <td>MI</td>\n",
       "      <td>2021-08-13</td>\n",
       "      <td>999700</td>\n",
       "      <td>21110</td>\n",
       "    </tr>\n",
       "    <tr>\n",
       "      <th>570</th>\n",
       "      <td>MI</td>\n",
       "      <td>2021-08-14</td>\n",
       "      <td>999700</td>\n",
       "      <td>21110</td>\n",
       "    </tr>\n",
       "    <tr>\n",
       "      <th>571</th>\n",
       "      <td>MI</td>\n",
       "      <td>2021-08-15</td>\n",
       "      <td>999700</td>\n",
       "      <td>21110</td>\n",
       "    </tr>\n",
       "    <tr>\n",
       "      <th>572</th>\n",
       "      <td>MI</td>\n",
       "      <td>2021-08-16</td>\n",
       "      <td>1003555</td>\n",
       "      <td>21130</td>\n",
       "    </tr>\n",
       "  </tbody>\n",
       "</table>\n",
       "<p>525 rows × 4 columns</p>\n",
       "</div>"
      ],
      "text/plain": [
       "    State       date  confirmed  deaths\n",
       "48     MI 2020-03-10          2       0\n",
       "49     MI 2020-03-11          2       0\n",
       "50     MI 2020-03-12         12       0\n",
       "51     MI 2020-03-13         24       0\n",
       "52     MI 2020-03-14         32       0\n",
       "..    ...        ...        ...     ...\n",
       "568    MI 2021-08-12     996091   21078\n",
       "569    MI 2021-08-13     999700   21110\n",
       "570    MI 2021-08-14     999700   21110\n",
       "571    MI 2021-08-15     999700   21110\n",
       "572    MI 2021-08-16    1003555   21130\n",
       "\n",
       "[525 rows x 4 columns]"
      ]
     },
     "execution_count": 60,
     "metadata": {},
     "output_type": "execute_result"
    }
   ],
   "source": [
    "data"
   ]
  },
  {
   "cell_type": "code",
   "execution_count": 61,
   "metadata": {},
   "outputs": [
    {
     "name": "stderr",
     "output_type": "stream",
     "text": [
      "C:\\Users\\hp\\AppData\\Local\\Temp\\ipykernel_10624\\353169590.py:2: SettingWithCopyWarning:\n",
      "\n",
      "\n",
      "A value is trying to be set on a copy of a slice from a DataFrame.\n",
      "Try using .loc[row_indexer,col_indexer] = value instead\n",
      "\n",
      "See the caveats in the documentation: https://pandas.pydata.org/pandas-docs/stable/user_guide/indexing.html#returning-a-view-versus-a-copy\n",
      "\n",
      "C:\\Users\\hp\\AppData\\Local\\Temp\\ipykernel_10624\\353169590.py:3: SettingWithCopyWarning:\n",
      "\n",
      "\n",
      "A value is trying to be set on a copy of a slice from a DataFrame.\n",
      "Try using .loc[row_indexer,col_indexer] = value instead\n",
      "\n",
      "See the caveats in the documentation: https://pandas.pydata.org/pandas-docs/stable/user_guide/indexing.html#returning-a-view-versus-a-copy\n",
      "\n"
     ]
    },
    {
     "data": {
      "text/html": [
       "<div>\n",
       "<style scoped>\n",
       "    .dataframe tbody tr th:only-of-type {\n",
       "        vertical-align: middle;\n",
       "    }\n",
       "\n",
       "    .dataframe tbody tr th {\n",
       "        vertical-align: top;\n",
       "    }\n",
       "\n",
       "    .dataframe thead th {\n",
       "        text-align: right;\n",
       "    }\n",
       "</style>\n",
       "<table border=\"1\" class=\"dataframe\">\n",
       "  <thead>\n",
       "    <tr style=\"text-align: right;\">\n",
       "      <th></th>\n",
       "      <th>State</th>\n",
       "      <th>date</th>\n",
       "      <th>confirmed</th>\n",
       "      <th>deaths</th>\n",
       "      <th>Number of new cases</th>\n",
       "      <th>Number of new deaths</th>\n",
       "    </tr>\n",
       "  </thead>\n",
       "  <tbody>\n",
       "    <tr>\n",
       "      <th>48</th>\n",
       "      <td>MI</td>\n",
       "      <td>2020-03-10</td>\n",
       "      <td>2</td>\n",
       "      <td>0</td>\n",
       "      <td>NaN</td>\n",
       "      <td>NaN</td>\n",
       "    </tr>\n",
       "    <tr>\n",
       "      <th>49</th>\n",
       "      <td>MI</td>\n",
       "      <td>2020-03-11</td>\n",
       "      <td>2</td>\n",
       "      <td>0</td>\n",
       "      <td>0.0</td>\n",
       "      <td>0.0</td>\n",
       "    </tr>\n",
       "    <tr>\n",
       "      <th>50</th>\n",
       "      <td>MI</td>\n",
       "      <td>2020-03-12</td>\n",
       "      <td>12</td>\n",
       "      <td>0</td>\n",
       "      <td>10.0</td>\n",
       "      <td>0.0</td>\n",
       "    </tr>\n",
       "    <tr>\n",
       "      <th>51</th>\n",
       "      <td>MI</td>\n",
       "      <td>2020-03-13</td>\n",
       "      <td>24</td>\n",
       "      <td>0</td>\n",
       "      <td>12.0</td>\n",
       "      <td>0.0</td>\n",
       "    </tr>\n",
       "    <tr>\n",
       "      <th>52</th>\n",
       "      <td>MI</td>\n",
       "      <td>2020-03-14</td>\n",
       "      <td>32</td>\n",
       "      <td>0</td>\n",
       "      <td>8.0</td>\n",
       "      <td>0.0</td>\n",
       "    </tr>\n",
       "    <tr>\n",
       "      <th>...</th>\n",
       "      <td>...</td>\n",
       "      <td>...</td>\n",
       "      <td>...</td>\n",
       "      <td>...</td>\n",
       "      <td>...</td>\n",
       "      <td>...</td>\n",
       "    </tr>\n",
       "    <tr>\n",
       "      <th>568</th>\n",
       "      <td>MI</td>\n",
       "      <td>2021-08-12</td>\n",
       "      <td>996091</td>\n",
       "      <td>21078</td>\n",
       "      <td>0.0</td>\n",
       "      <td>0.0</td>\n",
       "    </tr>\n",
       "    <tr>\n",
       "      <th>569</th>\n",
       "      <td>MI</td>\n",
       "      <td>2021-08-13</td>\n",
       "      <td>999700</td>\n",
       "      <td>21110</td>\n",
       "      <td>3609.0</td>\n",
       "      <td>32.0</td>\n",
       "    </tr>\n",
       "    <tr>\n",
       "      <th>570</th>\n",
       "      <td>MI</td>\n",
       "      <td>2021-08-14</td>\n",
       "      <td>999700</td>\n",
       "      <td>21110</td>\n",
       "      <td>0.0</td>\n",
       "      <td>0.0</td>\n",
       "    </tr>\n",
       "    <tr>\n",
       "      <th>571</th>\n",
       "      <td>MI</td>\n",
       "      <td>2021-08-15</td>\n",
       "      <td>999700</td>\n",
       "      <td>21110</td>\n",
       "      <td>0.0</td>\n",
       "      <td>0.0</td>\n",
       "    </tr>\n",
       "    <tr>\n",
       "      <th>572</th>\n",
       "      <td>MI</td>\n",
       "      <td>2021-08-16</td>\n",
       "      <td>1003555</td>\n",
       "      <td>21130</td>\n",
       "      <td>3855.0</td>\n",
       "      <td>20.0</td>\n",
       "    </tr>\n",
       "  </tbody>\n",
       "</table>\n",
       "<p>525 rows × 6 columns</p>\n",
       "</div>"
      ],
      "text/plain": [
       "    State       date  confirmed  deaths  Number of new cases  \\\n",
       "48     MI 2020-03-10          2       0                  NaN   \n",
       "49     MI 2020-03-11          2       0                  0.0   \n",
       "50     MI 2020-03-12         12       0                 10.0   \n",
       "51     MI 2020-03-13         24       0                 12.0   \n",
       "52     MI 2020-03-14         32       0                  8.0   \n",
       "..    ...        ...        ...     ...                  ...   \n",
       "568    MI 2021-08-12     996091   21078                  0.0   \n",
       "569    MI 2021-08-13     999700   21110               3609.0   \n",
       "570    MI 2021-08-14     999700   21110                  0.0   \n",
       "571    MI 2021-08-15     999700   21110                  0.0   \n",
       "572    MI 2021-08-16    1003555   21130               3855.0   \n",
       "\n",
       "     Number of new deaths  \n",
       "48                    NaN  \n",
       "49                    0.0  \n",
       "50                    0.0  \n",
       "51                    0.0  \n",
       "52                    0.0  \n",
       "..                    ...  \n",
       "568                   0.0  \n",
       "569                  32.0  \n",
       "570                   0.0  \n",
       "571                   0.0  \n",
       "572                  20.0  \n",
       "\n",
       "[525 rows x 6 columns]"
      ]
     },
     "execution_count": 61,
     "metadata": {},
     "output_type": "execute_result"
    }
   ],
   "source": [
    "#Creating new columns using .diff() function\n",
    "data['Number of new cases']=data['confirmed'].diff()\n",
    "data['Number of new deaths']=data['deaths'].diff()\n",
    "data\n"
   ]
  },
  {
   "cell_type": "code",
   "execution_count": 62,
   "metadata": {},
   "outputs": [
    {
     "data": {
      "text/plain": [
       "Timestamp('2020-03-10 00:00:00')"
      ]
     },
     "execution_count": 62,
     "metadata": {},
     "output_type": "execute_result"
    }
   ],
   "source": [
    "first_date = data[data['confirmed'] > 0]['date'].min()\n",
    "first_date"
   ]
  },
  {
   "cell_type": "code",
   "execution_count": 63,
   "metadata": {},
   "outputs": [
    {
     "name": "stderr",
     "output_type": "stream",
     "text": [
      "C:\\Users\\hp\\AppData\\Local\\Temp\\ipykernel_10624\\3362537362.py:2: SettingWithCopyWarning:\n",
      "\n",
      "\n",
      "A value is trying to be set on a copy of a slice from a DataFrame.\n",
      "Try using .loc[row_indexer,col_indexer] = value instead\n",
      "\n",
      "See the caveats in the documentation: https://pandas.pydata.org/pandas-docs/stable/user_guide/indexing.html#returning-a-view-versus-a-copy\n",
      "\n"
     ]
    },
    {
     "data": {
      "text/html": [
       "<div>\n",
       "<style scoped>\n",
       "    .dataframe tbody tr th:only-of-type {\n",
       "        vertical-align: middle;\n",
       "    }\n",
       "\n",
       "    .dataframe tbody tr th {\n",
       "        vertical-align: top;\n",
       "    }\n",
       "\n",
       "    .dataframe thead th {\n",
       "        text-align: right;\n",
       "    }\n",
       "</style>\n",
       "<table border=\"1\" class=\"dataframe\">\n",
       "  <thead>\n",
       "    <tr style=\"text-align: right;\">\n",
       "      <th></th>\n",
       "      <th>State</th>\n",
       "      <th>date</th>\n",
       "      <th>confirmed</th>\n",
       "      <th>deaths</th>\n",
       "      <th>Number of new cases</th>\n",
       "      <th>Number of new deaths</th>\n",
       "      <th>No_of_days_since_first_case</th>\n",
       "    </tr>\n",
       "  </thead>\n",
       "  <tbody>\n",
       "    <tr>\n",
       "      <th>48</th>\n",
       "      <td>MI</td>\n",
       "      <td>2020-03-10</td>\n",
       "      <td>2</td>\n",
       "      <td>0</td>\n",
       "      <td>NaN</td>\n",
       "      <td>NaN</td>\n",
       "      <td>0</td>\n",
       "    </tr>\n",
       "    <tr>\n",
       "      <th>49</th>\n",
       "      <td>MI</td>\n",
       "      <td>2020-03-11</td>\n",
       "      <td>2</td>\n",
       "      <td>0</td>\n",
       "      <td>0.0</td>\n",
       "      <td>0.0</td>\n",
       "      <td>1</td>\n",
       "    </tr>\n",
       "    <tr>\n",
       "      <th>50</th>\n",
       "      <td>MI</td>\n",
       "      <td>2020-03-12</td>\n",
       "      <td>12</td>\n",
       "      <td>0</td>\n",
       "      <td>10.0</td>\n",
       "      <td>0.0</td>\n",
       "      <td>2</td>\n",
       "    </tr>\n",
       "    <tr>\n",
       "      <th>51</th>\n",
       "      <td>MI</td>\n",
       "      <td>2020-03-13</td>\n",
       "      <td>24</td>\n",
       "      <td>0</td>\n",
       "      <td>12.0</td>\n",
       "      <td>0.0</td>\n",
       "      <td>3</td>\n",
       "    </tr>\n",
       "    <tr>\n",
       "      <th>52</th>\n",
       "      <td>MI</td>\n",
       "      <td>2020-03-14</td>\n",
       "      <td>32</td>\n",
       "      <td>0</td>\n",
       "      <td>8.0</td>\n",
       "      <td>0.0</td>\n",
       "      <td>4</td>\n",
       "    </tr>\n",
       "    <tr>\n",
       "      <th>...</th>\n",
       "      <td>...</td>\n",
       "      <td>...</td>\n",
       "      <td>...</td>\n",
       "      <td>...</td>\n",
       "      <td>...</td>\n",
       "      <td>...</td>\n",
       "      <td>...</td>\n",
       "    </tr>\n",
       "    <tr>\n",
       "      <th>568</th>\n",
       "      <td>MI</td>\n",
       "      <td>2021-08-12</td>\n",
       "      <td>996091</td>\n",
       "      <td>21078</td>\n",
       "      <td>0.0</td>\n",
       "      <td>0.0</td>\n",
       "      <td>520</td>\n",
       "    </tr>\n",
       "    <tr>\n",
       "      <th>569</th>\n",
       "      <td>MI</td>\n",
       "      <td>2021-08-13</td>\n",
       "      <td>999700</td>\n",
       "      <td>21110</td>\n",
       "      <td>3609.0</td>\n",
       "      <td>32.0</td>\n",
       "      <td>521</td>\n",
       "    </tr>\n",
       "    <tr>\n",
       "      <th>570</th>\n",
       "      <td>MI</td>\n",
       "      <td>2021-08-14</td>\n",
       "      <td>999700</td>\n",
       "      <td>21110</td>\n",
       "      <td>0.0</td>\n",
       "      <td>0.0</td>\n",
       "      <td>522</td>\n",
       "    </tr>\n",
       "    <tr>\n",
       "      <th>571</th>\n",
       "      <td>MI</td>\n",
       "      <td>2021-08-15</td>\n",
       "      <td>999700</td>\n",
       "      <td>21110</td>\n",
       "      <td>0.0</td>\n",
       "      <td>0.0</td>\n",
       "      <td>523</td>\n",
       "    </tr>\n",
       "    <tr>\n",
       "      <th>572</th>\n",
       "      <td>MI</td>\n",
       "      <td>2021-08-16</td>\n",
       "      <td>1003555</td>\n",
       "      <td>21130</td>\n",
       "      <td>3855.0</td>\n",
       "      <td>20.0</td>\n",
       "      <td>524</td>\n",
       "    </tr>\n",
       "  </tbody>\n",
       "</table>\n",
       "<p>525 rows × 7 columns</p>\n",
       "</div>"
      ],
      "text/plain": [
       "    State       date  confirmed  deaths  Number of new cases  \\\n",
       "48     MI 2020-03-10          2       0                  NaN   \n",
       "49     MI 2020-03-11          2       0                  0.0   \n",
       "50     MI 2020-03-12         12       0                 10.0   \n",
       "51     MI 2020-03-13         24       0                 12.0   \n",
       "52     MI 2020-03-14         32       0                  8.0   \n",
       "..    ...        ...        ...     ...                  ...   \n",
       "568    MI 2021-08-12     996091   21078                  0.0   \n",
       "569    MI 2021-08-13     999700   21110               3609.0   \n",
       "570    MI 2021-08-14     999700   21110                  0.0   \n",
       "571    MI 2021-08-15     999700   21110                  0.0   \n",
       "572    MI 2021-08-16    1003555   21130               3855.0   \n",
       "\n",
       "     Number of new deaths  No_of_days_since_first_case  \n",
       "48                    NaN                            0  \n",
       "49                    0.0                            1  \n",
       "50                    0.0                            2  \n",
       "51                    0.0                            3  \n",
       "52                    0.0                            4  \n",
       "..                    ...                          ...  \n",
       "568                   0.0                          520  \n",
       "569                  32.0                          521  \n",
       "570                   0.0                          522  \n",
       "571                   0.0                          523  \n",
       "572                  20.0                          524  \n",
       "\n",
       "[525 rows x 7 columns]"
      ]
     },
     "execution_count": 63,
     "metadata": {},
     "output_type": "execute_result"
    }
   ],
   "source": [
    "#Determinig new column-No_of_days_since_first_case\n",
    "data['No_of_days_since_first_case'] = (data['date'] - first_date).dt.days\n",
    "data"
   ]
  },
  {
   "cell_type": "code",
   "execution_count": 64,
   "metadata": {},
   "outputs": [],
   "source": [
    "#Cleaning data\n",
    "data=data.dropna()"
   ]
  },
  {
   "cell_type": "code",
   "execution_count": 65,
   "metadata": {},
   "outputs": [
    {
     "data": {
      "text/html": [
       "<div>\n",
       "<style scoped>\n",
       "    .dataframe tbody tr th:only-of-type {\n",
       "        vertical-align: middle;\n",
       "    }\n",
       "\n",
       "    .dataframe tbody tr th {\n",
       "        vertical-align: top;\n",
       "    }\n",
       "\n",
       "    .dataframe thead th {\n",
       "        text-align: right;\n",
       "    }\n",
       "</style>\n",
       "<table border=\"1\" class=\"dataframe\">\n",
       "  <thead>\n",
       "    <tr style=\"text-align: right;\">\n",
       "      <th></th>\n",
       "      <th>State</th>\n",
       "      <th>date</th>\n",
       "      <th>confirmed</th>\n",
       "      <th>deaths</th>\n",
       "      <th>Number of new cases</th>\n",
       "      <th>Number of new deaths</th>\n",
       "      <th>No_of_days_since_first_case</th>\n",
       "    </tr>\n",
       "  </thead>\n",
       "  <tbody>\n",
       "    <tr>\n",
       "      <th>49</th>\n",
       "      <td>MI</td>\n",
       "      <td>2020-03-11</td>\n",
       "      <td>2</td>\n",
       "      <td>0</td>\n",
       "      <td>0.0</td>\n",
       "      <td>0.0</td>\n",
       "      <td>1</td>\n",
       "    </tr>\n",
       "    <tr>\n",
       "      <th>50</th>\n",
       "      <td>MI</td>\n",
       "      <td>2020-03-12</td>\n",
       "      <td>12</td>\n",
       "      <td>0</td>\n",
       "      <td>10.0</td>\n",
       "      <td>0.0</td>\n",
       "      <td>2</td>\n",
       "    </tr>\n",
       "    <tr>\n",
       "      <th>51</th>\n",
       "      <td>MI</td>\n",
       "      <td>2020-03-13</td>\n",
       "      <td>24</td>\n",
       "      <td>0</td>\n",
       "      <td>12.0</td>\n",
       "      <td>0.0</td>\n",
       "      <td>3</td>\n",
       "    </tr>\n",
       "    <tr>\n",
       "      <th>52</th>\n",
       "      <td>MI</td>\n",
       "      <td>2020-03-14</td>\n",
       "      <td>32</td>\n",
       "      <td>0</td>\n",
       "      <td>8.0</td>\n",
       "      <td>0.0</td>\n",
       "      <td>4</td>\n",
       "    </tr>\n",
       "    <tr>\n",
       "      <th>53</th>\n",
       "      <td>MI</td>\n",
       "      <td>2020-03-15</td>\n",
       "      <td>52</td>\n",
       "      <td>0</td>\n",
       "      <td>20.0</td>\n",
       "      <td>0.0</td>\n",
       "      <td>5</td>\n",
       "    </tr>\n",
       "    <tr>\n",
       "      <th>...</th>\n",
       "      <td>...</td>\n",
       "      <td>...</td>\n",
       "      <td>...</td>\n",
       "      <td>...</td>\n",
       "      <td>...</td>\n",
       "      <td>...</td>\n",
       "      <td>...</td>\n",
       "    </tr>\n",
       "    <tr>\n",
       "      <th>568</th>\n",
       "      <td>MI</td>\n",
       "      <td>2021-08-12</td>\n",
       "      <td>996091</td>\n",
       "      <td>21078</td>\n",
       "      <td>0.0</td>\n",
       "      <td>0.0</td>\n",
       "      <td>520</td>\n",
       "    </tr>\n",
       "    <tr>\n",
       "      <th>569</th>\n",
       "      <td>MI</td>\n",
       "      <td>2021-08-13</td>\n",
       "      <td>999700</td>\n",
       "      <td>21110</td>\n",
       "      <td>3609.0</td>\n",
       "      <td>32.0</td>\n",
       "      <td>521</td>\n",
       "    </tr>\n",
       "    <tr>\n",
       "      <th>570</th>\n",
       "      <td>MI</td>\n",
       "      <td>2021-08-14</td>\n",
       "      <td>999700</td>\n",
       "      <td>21110</td>\n",
       "      <td>0.0</td>\n",
       "      <td>0.0</td>\n",
       "      <td>522</td>\n",
       "    </tr>\n",
       "    <tr>\n",
       "      <th>571</th>\n",
       "      <td>MI</td>\n",
       "      <td>2021-08-15</td>\n",
       "      <td>999700</td>\n",
       "      <td>21110</td>\n",
       "      <td>0.0</td>\n",
       "      <td>0.0</td>\n",
       "      <td>523</td>\n",
       "    </tr>\n",
       "    <tr>\n",
       "      <th>572</th>\n",
       "      <td>MI</td>\n",
       "      <td>2021-08-16</td>\n",
       "      <td>1003555</td>\n",
       "      <td>21130</td>\n",
       "      <td>3855.0</td>\n",
       "      <td>20.0</td>\n",
       "      <td>524</td>\n",
       "    </tr>\n",
       "  </tbody>\n",
       "</table>\n",
       "<p>524 rows × 7 columns</p>\n",
       "</div>"
      ],
      "text/plain": [
       "    State       date  confirmed  deaths  Number of new cases  \\\n",
       "49     MI 2020-03-11          2       0                  0.0   \n",
       "50     MI 2020-03-12         12       0                 10.0   \n",
       "51     MI 2020-03-13         24       0                 12.0   \n",
       "52     MI 2020-03-14         32       0                  8.0   \n",
       "53     MI 2020-03-15         52       0                 20.0   \n",
       "..    ...        ...        ...     ...                  ...   \n",
       "568    MI 2021-08-12     996091   21078                  0.0   \n",
       "569    MI 2021-08-13     999700   21110               3609.0   \n",
       "570    MI 2021-08-14     999700   21110                  0.0   \n",
       "571    MI 2021-08-15     999700   21110                  0.0   \n",
       "572    MI 2021-08-16    1003555   21130               3855.0   \n",
       "\n",
       "     Number of new deaths  No_of_days_since_first_case  \n",
       "49                    0.0                            1  \n",
       "50                    0.0                            2  \n",
       "51                    0.0                            3  \n",
       "52                    0.0                            4  \n",
       "53                    0.0                            5  \n",
       "..                    ...                          ...  \n",
       "568                   0.0                          520  \n",
       "569                  32.0                          521  \n",
       "570                   0.0                          522  \n",
       "571                   0.0                          523  \n",
       "572                  20.0                          524  \n",
       "\n",
       "[524 rows x 7 columns]"
      ]
     },
     "execution_count": 65,
     "metadata": {},
     "output_type": "execute_result"
    }
   ],
   "source": [
    "data"
   ]
  },
  {
   "cell_type": "code",
   "execution_count": 66,
   "metadata": {},
   "outputs": [
    {
     "name": "stdout",
     "output_type": "stream",
     "text": [
      "523 days\n"
     ]
    }
   ],
   "source": [
    "#Printing Number of days between first covid confirmed case and the most latest covid confirmed cases\n",
    "def numOfDays(date1, date2):\n",
    "    return (date2-date1).days\n",
    "date1 = date(2020, 3, 11)\n",
    "date2 = date(2021, 8, 16)\n",
    "print(numOfDays(date1, date2), \"days\")"
   ]
  },
  {
   "cell_type": "code",
   "execution_count": 67,
   "metadata": {},
   "outputs": [
    {
     "data": {
      "text/html": [
       "<div>\n",
       "<style scoped>\n",
       "    .dataframe tbody tr th:only-of-type {\n",
       "        vertical-align: middle;\n",
       "    }\n",
       "\n",
       "    .dataframe tbody tr th {\n",
       "        vertical-align: top;\n",
       "    }\n",
       "\n",
       "    .dataframe thead th {\n",
       "        text-align: right;\n",
       "    }\n",
       "</style>\n",
       "<table border=\"1\" class=\"dataframe\">\n",
       "  <thead>\n",
       "    <tr style=\"text-align: right;\">\n",
       "      <th></th>\n",
       "      <th>State</th>\n",
       "      <th>date</th>\n",
       "      <th>confirmed</th>\n",
       "      <th>deaths</th>\n",
       "      <th>Number of new cases</th>\n",
       "      <th>Number of new deaths</th>\n",
       "      <th>No_of_days_since_first_case</th>\n",
       "    </tr>\n",
       "  </thead>\n",
       "  <tbody>\n",
       "    <tr>\n",
       "      <th>49</th>\n",
       "      <td>MI</td>\n",
       "      <td>2020-03-11</td>\n",
       "      <td>2</td>\n",
       "      <td>0</td>\n",
       "      <td>0.0</td>\n",
       "      <td>0.0</td>\n",
       "      <td>1</td>\n",
       "    </tr>\n",
       "    <tr>\n",
       "      <th>50</th>\n",
       "      <td>MI</td>\n",
       "      <td>2020-03-12</td>\n",
       "      <td>12</td>\n",
       "      <td>0</td>\n",
       "      <td>10.0</td>\n",
       "      <td>0.0</td>\n",
       "      <td>2</td>\n",
       "    </tr>\n",
       "    <tr>\n",
       "      <th>51</th>\n",
       "      <td>MI</td>\n",
       "      <td>2020-03-13</td>\n",
       "      <td>24</td>\n",
       "      <td>0</td>\n",
       "      <td>12.0</td>\n",
       "      <td>0.0</td>\n",
       "      <td>3</td>\n",
       "    </tr>\n",
       "    <tr>\n",
       "      <th>52</th>\n",
       "      <td>MI</td>\n",
       "      <td>2020-03-14</td>\n",
       "      <td>32</td>\n",
       "      <td>0</td>\n",
       "      <td>8.0</td>\n",
       "      <td>0.0</td>\n",
       "      <td>4</td>\n",
       "    </tr>\n",
       "    <tr>\n",
       "      <th>53</th>\n",
       "      <td>MI</td>\n",
       "      <td>2020-03-15</td>\n",
       "      <td>52</td>\n",
       "      <td>0</td>\n",
       "      <td>20.0</td>\n",
       "      <td>0.0</td>\n",
       "      <td>5</td>\n",
       "    </tr>\n",
       "    <tr>\n",
       "      <th>...</th>\n",
       "      <td>...</td>\n",
       "      <td>...</td>\n",
       "      <td>...</td>\n",
       "      <td>...</td>\n",
       "      <td>...</td>\n",
       "      <td>...</td>\n",
       "      <td>...</td>\n",
       "    </tr>\n",
       "    <tr>\n",
       "      <th>568</th>\n",
       "      <td>MI</td>\n",
       "      <td>2021-08-12</td>\n",
       "      <td>996091</td>\n",
       "      <td>21078</td>\n",
       "      <td>0.0</td>\n",
       "      <td>0.0</td>\n",
       "      <td>520</td>\n",
       "    </tr>\n",
       "    <tr>\n",
       "      <th>569</th>\n",
       "      <td>MI</td>\n",
       "      <td>2021-08-13</td>\n",
       "      <td>999700</td>\n",
       "      <td>21110</td>\n",
       "      <td>3609.0</td>\n",
       "      <td>32.0</td>\n",
       "      <td>521</td>\n",
       "    </tr>\n",
       "    <tr>\n",
       "      <th>570</th>\n",
       "      <td>MI</td>\n",
       "      <td>2021-08-14</td>\n",
       "      <td>999700</td>\n",
       "      <td>21110</td>\n",
       "      <td>0.0</td>\n",
       "      <td>0.0</td>\n",
       "      <td>522</td>\n",
       "    </tr>\n",
       "    <tr>\n",
       "      <th>571</th>\n",
       "      <td>MI</td>\n",
       "      <td>2021-08-15</td>\n",
       "      <td>999700</td>\n",
       "      <td>21110</td>\n",
       "      <td>0.0</td>\n",
       "      <td>0.0</td>\n",
       "      <td>523</td>\n",
       "    </tr>\n",
       "    <tr>\n",
       "      <th>572</th>\n",
       "      <td>MI</td>\n",
       "      <td>2021-08-16</td>\n",
       "      <td>1003555</td>\n",
       "      <td>21130</td>\n",
       "      <td>3855.0</td>\n",
       "      <td>20.0</td>\n",
       "      <td>524</td>\n",
       "    </tr>\n",
       "  </tbody>\n",
       "</table>\n",
       "<p>524 rows × 7 columns</p>\n",
       "</div>"
      ],
      "text/plain": [
       "    State       date  confirmed  deaths  Number of new cases  \\\n",
       "49     MI 2020-03-11          2       0                  0.0   \n",
       "50     MI 2020-03-12         12       0                 10.0   \n",
       "51     MI 2020-03-13         24       0                 12.0   \n",
       "52     MI 2020-03-14         32       0                  8.0   \n",
       "53     MI 2020-03-15         52       0                 20.0   \n",
       "..    ...        ...        ...     ...                  ...   \n",
       "568    MI 2021-08-12     996091   21078                  0.0   \n",
       "569    MI 2021-08-13     999700   21110               3609.0   \n",
       "570    MI 2021-08-14     999700   21110                  0.0   \n",
       "571    MI 2021-08-15     999700   21110                  0.0   \n",
       "572    MI 2021-08-16    1003555   21130               3855.0   \n",
       "\n",
       "     Number of new deaths  No_of_days_since_first_case  \n",
       "49                    0.0                            1  \n",
       "50                    0.0                            2  \n",
       "51                    0.0                            3  \n",
       "52                    0.0                            4  \n",
       "53                    0.0                            5  \n",
       "..                    ...                          ...  \n",
       "568                   0.0                          520  \n",
       "569                  32.0                          521  \n",
       "570                   0.0                          522  \n",
       "571                   0.0                          523  \n",
       "572                  20.0                          524  \n",
       "\n",
       "[524 rows x 7 columns]"
      ]
     },
     "execution_count": 67,
     "metadata": {},
     "output_type": "execute_result"
    }
   ],
   "source": [
    "data = data[data['date'] >= first_date]\n",
    "data"
   ]
  },
  {
   "cell_type": "markdown",
   "metadata": {},
   "source": [
    "***Plotting graph***"
   ]
  },
  {
   "cell_type": "markdown",
   "metadata": {},
   "source": [
    "***for x='No_of_days_since_first_case' , y='Number of new cases', 'Number of new deaths'***"
   ]
  },
  {
   "cell_type": "code",
   "execution_count": 68,
   "metadata": {},
   "outputs": [],
   "source": [
    "fig = px.area(data, x='No_of_days_since_first_case', y=['Number of new cases', 'Number of new deaths'])"
   ]
  },
  {
   "cell_type": "code",
   "execution_count": 69,
   "metadata": {},
   "outputs": [
    {
     "data": {
      "application/vnd.plotly.v1+json": {
       "config": {
        "plotlyServerURL": "https://plot.ly"
       },
       "data": [
        {
         "hovertemplate": "variable=Number of new cases<br>No_of_days_since_first_case=%{x}<br>value=%{y}<extra></extra>",
         "legendgroup": "Number of new cases",
         "line": {
          "color": "#636efa"
         },
         "marker": {
          "symbol": "circle"
         },
         "mode": "lines",
         "name": "Number of new cases",
         "orientation": "v",
         "showlegend": true,
         "stackgroup": "1",
         "type": "scatter",
         "x": [
          1,
          2,
          3,
          4,
          5,
          6,
          7,
          8,
          9,
          10,
          11,
          12,
          13,
          14,
          15,
          16,
          17,
          18,
          19,
          20,
          21,
          22,
          23,
          24,
          25,
          26,
          27,
          28,
          29,
          30,
          31,
          32,
          33,
          34,
          35,
          36,
          37,
          38,
          39,
          40,
          41,
          42,
          43,
          44,
          45,
          46,
          47,
          48,
          49,
          50,
          51,
          52,
          53,
          54,
          55,
          56,
          57,
          58,
          59,
          60,
          61,
          62,
          63,
          64,
          65,
          66,
          67,
          68,
          69,
          70,
          71,
          72,
          73,
          74,
          75,
          76,
          77,
          78,
          79,
          80,
          81,
          82,
          83,
          84,
          85,
          86,
          87,
          88,
          89,
          90,
          91,
          92,
          93,
          94,
          95,
          96,
          97,
          98,
          99,
          100,
          101,
          102,
          103,
          104,
          105,
          106,
          107,
          108,
          109,
          110,
          111,
          112,
          113,
          114,
          115,
          116,
          117,
          118,
          119,
          120,
          121,
          122,
          123,
          124,
          125,
          126,
          127,
          128,
          129,
          130,
          131,
          132,
          133,
          134,
          135,
          136,
          137,
          138,
          139,
          140,
          141,
          142,
          143,
          144,
          145,
          146,
          147,
          148,
          149,
          150,
          151,
          152,
          153,
          154,
          155,
          156,
          157,
          158,
          159,
          160,
          161,
          162,
          163,
          164,
          165,
          166,
          167,
          168,
          169,
          170,
          171,
          172,
          173,
          174,
          175,
          176,
          177,
          178,
          179,
          180,
          181,
          182,
          183,
          184,
          185,
          186,
          187,
          188,
          189,
          190,
          191,
          192,
          193,
          194,
          195,
          196,
          197,
          198,
          199,
          200,
          201,
          202,
          203,
          204,
          205,
          206,
          207,
          208,
          209,
          210,
          211,
          212,
          213,
          214,
          215,
          216,
          217,
          218,
          219,
          220,
          221,
          222,
          223,
          224,
          225,
          226,
          227,
          228,
          229,
          230,
          231,
          232,
          233,
          234,
          235,
          236,
          237,
          238,
          239,
          240,
          241,
          242,
          243,
          244,
          245,
          246,
          247,
          248,
          249,
          250,
          251,
          252,
          253,
          254,
          255,
          256,
          257,
          258,
          259,
          260,
          261,
          262,
          263,
          264,
          265,
          266,
          267,
          268,
          269,
          270,
          271,
          272,
          273,
          274,
          275,
          276,
          277,
          278,
          279,
          280,
          281,
          282,
          283,
          284,
          285,
          286,
          287,
          288,
          289,
          290,
          291,
          292,
          293,
          294,
          295,
          296,
          297,
          298,
          299,
          300,
          301,
          302,
          303,
          304,
          305,
          306,
          307,
          308,
          309,
          310,
          311,
          312,
          313,
          314,
          315,
          316,
          317,
          318,
          319,
          320,
          321,
          322,
          323,
          324,
          325,
          326,
          327,
          328,
          329,
          330,
          331,
          332,
          333,
          334,
          335,
          336,
          337,
          338,
          339,
          340,
          341,
          342,
          343,
          344,
          345,
          346,
          347,
          348,
          349,
          350,
          351,
          352,
          353,
          354,
          355,
          356,
          357,
          358,
          359,
          360,
          361,
          362,
          363,
          364,
          365,
          366,
          367,
          368,
          369,
          370,
          371,
          372,
          373,
          374,
          375,
          376,
          377,
          378,
          379,
          380,
          381,
          382,
          383,
          384,
          385,
          386,
          387,
          388,
          389,
          390,
          391,
          392,
          393,
          394,
          395,
          396,
          397,
          398,
          399,
          400,
          401,
          402,
          403,
          404,
          405,
          406,
          407,
          408,
          409,
          410,
          411,
          412,
          413,
          414,
          415,
          416,
          417,
          418,
          419,
          420,
          421,
          422,
          423,
          424,
          425,
          426,
          427,
          428,
          429,
          430,
          431,
          432,
          433,
          434,
          435,
          436,
          437,
          438,
          439,
          440,
          441,
          442,
          443,
          444,
          445,
          446,
          447,
          448,
          449,
          450,
          451,
          452,
          453,
          454,
          455,
          456,
          457,
          458,
          459,
          460,
          461,
          462,
          463,
          464,
          465,
          466,
          467,
          468,
          469,
          470,
          471,
          472,
          473,
          474,
          475,
          476,
          477,
          478,
          479,
          480,
          481,
          482,
          483,
          484,
          485,
          486,
          487,
          488,
          489,
          490,
          491,
          492,
          493,
          494,
          495,
          496,
          497,
          498,
          499,
          500,
          501,
          502,
          503,
          504,
          505,
          506,
          507,
          508,
          509,
          510,
          511,
          512,
          513,
          514,
          515,
          516,
          517,
          518,
          519,
          520,
          521,
          522,
          523,
          524
         ],
         "xaxis": "x",
         "y": [
          0,
          10,
          12,
          8,
          20,
          2,
          11,
          15,
          244,
          224,
          238,
          249,
          288,
          458,
          498,
          556,
          790,
          963,
          800,
          1012,
          1100,
          1628,
          1435,
          1887,
          1437,
          1394,
          1475,
          1686,
          1415,
          1150,
          1204,
          1165,
          637,
          1004,
          1284,
          1006,
          1208,
          830,
          727,
          634,
          574,
          954,
          975,
          1211,
          1150,
          508,
          540,
          438,
          1009,
          937,
          791,
          866,
          578,
          499,
          213,
          374,
          682,
          461,
          545,
          464,
          373,
          407,
          421,
          361,
          1128,
          457,
          449,
          321,
          282,
          417,
          564,
          412,
          361,
          450,
          296,
          201,
          198,
          174,
          447,
          412,
          174,
          486,
          139,
          157,
          273,
          225,
          5177,
          444,
          416,
          264,
          301,
          199,
          204,
          243,
          173,
          214,
          115,
          183,
          222,
          278,
          292,
          434,
          163,
          236,
          241,
          337,
          434,
          321,
          353,
          254,
          276,
          497,
          423,
          578,
          474,
          395,
          343,
          302,
          617,
          646,
          608,
          612,
          635,
          442,
          410,
          671,
          1063,
          896,
          771,
          722,
          507,
          512,
          673,
          707,
          723,
          623,
          508,
          1077,
          492,
          723,
          972,
          900,
          815,
          733,
          410,
          598,
          712,
          662,
          769,
          748,
          722,
          497,
          581,
          726,
          457,
          1128,
          876,
          948,
          290,
          484,
          643,
          735,
          529,
          0,
          1425,
          742,
          821,
          746,
          869,
          830,
          794,
          0,
          1279,
          488,
          774,
          660,
          769,
          994,
          818,
          0,
          1131,
          491,
          979,
          948,
          1345,
          793,
          0,
          1207,
          674,
          799,
          990,
          773,
          563,
          0,
          1500,
          744,
          886,
          1102,
          1033,
          996,
          0,
          1331,
          1106,
          1191,
          991,
          984,
          1251,
          0,
          1457,
          1146,
          1207,
          1397,
          1317,
          1600,
          0,
          1902,
          1357,
          1612,
          2437,
          2159,
          1973,
          0,
          2582,
          1867,
          1858,
          2157,
          1916,
          3396,
          0,
          4005,
          2636,
          3452,
          3940,
          3284,
          3911,
          0,
          6897,
          3400,
          4217,
          5838,
          4248,
          0,
          0,
          15117,
          6948,
          6568,
          7122,
          8454,
          7150,
          0,
          12894,
          7777,
          6119,
          7483,
          8945,
          7188,
          0,
          11826,
          6693,
          4767,
          0,
          16958,
          7839,
          0,
          10287,
          6392,
          7401,
          7241,
          8248,
          5669,
          0,
          9186,
          6497,
          5282,
          6197,
          5037,
          4435,
          0,
          6711,
          5335,
          4521,
          4299,
          4217,
          3991,
          0,
          4923,
          3074,
          3290,
          0,
          0,
          7389,
          0,
          3400,
          3748,
          3789,
          0,
          0,
          8235,
          0,
          5446,
          3096,
          4680,
          4125,
          3620,
          2825,
          0,
          5147,
          2577,
          3142,
          3229,
          3022,
          2125,
          0,
          3507,
          0,
          4723,
          2507,
          2500,
          1786,
          0,
          2955,
          2366,
          2041,
          2209,
          2036,
          1552,
          0,
          2569,
          1411,
          1728,
          1830,
          1655,
          1187,
          0,
          1997,
          1029,
          1322,
          1434,
          1475,
          898,
          0,
          1363,
          1073,
          1215,
          1148,
          1443,
          790,
          0,
          1627,
          1705,
          1528,
          1556,
          1242,
          1411,
          0,
          1855,
          1635,
          1685,
          1748,
          1762,
          1665,
          0,
          2242,
          1530,
          2640,
          2412,
          2855,
          1979,
          0,
          3805,
          2559,
          3759,
          2948,
          4371,
          3235,
          0,
          5725,
          4521,
          5073,
          5740,
          6012,
          5213,
          0,
          9215,
          6293,
          7081,
          7016,
          6104,
          9257,
          0,
          11040,
          6126,
          9384,
          8498,
          8803,
          7503,
          0,
          10514,
          10252,
          9324,
          7164,
          9800,
          6057,
          0,
          9141,
          0,
          12542,
          5444,
          5621,
          5197,
          0,
          7049,
          4565,
          4915,
          4102,
          3844,
          3692,
          0,
          5523,
          3111,
          3050,
          4002,
          3348,
          2575,
          0,
          2959,
          2670,
          2753,
          2313,
          2092,
          1487,
          0,
          2551,
          1535,
          1936,
          1579,
          1191,
          1198,
          0,
          1434,
          980,
          1113,
          838,
          740,
          560,
          0,
          0,
          972,
          517,
          528,
          550,
          414,
          0,
          461,
          357,
          298,
          360,
          329,
          227,
          0,
          390,
          217,
          217,
          170,
          173,
          0,
          0,
          359,
          186,
          375,
          175,
          138,
          0,
          0,
          376,
          247,
          318,
          220,
          129,
          0,
          0,
          0,
          525,
          0,
          0,
          831,
          0,
          0,
          0,
          740,
          0,
          0,
          930,
          0,
          0,
          0,
          1177,
          0,
          0,
          1708,
          0,
          0,
          0,
          2066,
          0,
          0,
          2661,
          0,
          0,
          0,
          2953,
          0,
          0,
          4484,
          0,
          0,
          3056,
          0,
          3309,
          0,
          3609,
          0,
          0,
          3855
         ],
         "yaxis": "y"
        },
        {
         "hovertemplate": "variable=Number of new deaths<br>No_of_days_since_first_case=%{x}<br>value=%{y}<extra></extra>",
         "legendgroup": "Number of new deaths",
         "line": {
          "color": "#EF553B"
         },
         "marker": {
          "symbol": "circle"
         },
         "mode": "lines",
         "name": "Number of new deaths",
         "orientation": "v",
         "showlegend": true,
         "stackgroup": "1",
         "type": "scatter",
         "x": [
          1,
          2,
          3,
          4,
          5,
          6,
          7,
          8,
          9,
          10,
          11,
          12,
          13,
          14,
          15,
          16,
          17,
          18,
          19,
          20,
          21,
          22,
          23,
          24,
          25,
          26,
          27,
          28,
          29,
          30,
          31,
          32,
          33,
          34,
          35,
          36,
          37,
          38,
          39,
          40,
          41,
          42,
          43,
          44,
          45,
          46,
          47,
          48,
          49,
          50,
          51,
          52,
          53,
          54,
          55,
          56,
          57,
          58,
          59,
          60,
          61,
          62,
          63,
          64,
          65,
          66,
          67,
          68,
          69,
          70,
          71,
          72,
          73,
          74,
          75,
          76,
          77,
          78,
          79,
          80,
          81,
          82,
          83,
          84,
          85,
          86,
          87,
          88,
          89,
          90,
          91,
          92,
          93,
          94,
          95,
          96,
          97,
          98,
          99,
          100,
          101,
          102,
          103,
          104,
          105,
          106,
          107,
          108,
          109,
          110,
          111,
          112,
          113,
          114,
          115,
          116,
          117,
          118,
          119,
          120,
          121,
          122,
          123,
          124,
          125,
          126,
          127,
          128,
          129,
          130,
          131,
          132,
          133,
          134,
          135,
          136,
          137,
          138,
          139,
          140,
          141,
          142,
          143,
          144,
          145,
          146,
          147,
          148,
          149,
          150,
          151,
          152,
          153,
          154,
          155,
          156,
          157,
          158,
          159,
          160,
          161,
          162,
          163,
          164,
          165,
          166,
          167,
          168,
          169,
          170,
          171,
          172,
          173,
          174,
          175,
          176,
          177,
          178,
          179,
          180,
          181,
          182,
          183,
          184,
          185,
          186,
          187,
          188,
          189,
          190,
          191,
          192,
          193,
          194,
          195,
          196,
          197,
          198,
          199,
          200,
          201,
          202,
          203,
          204,
          205,
          206,
          207,
          208,
          209,
          210,
          211,
          212,
          213,
          214,
          215,
          216,
          217,
          218,
          219,
          220,
          221,
          222,
          223,
          224,
          225,
          226,
          227,
          228,
          229,
          230,
          231,
          232,
          233,
          234,
          235,
          236,
          237,
          238,
          239,
          240,
          241,
          242,
          243,
          244,
          245,
          246,
          247,
          248,
          249,
          250,
          251,
          252,
          253,
          254,
          255,
          256,
          257,
          258,
          259,
          260,
          261,
          262,
          263,
          264,
          265,
          266,
          267,
          268,
          269,
          270,
          271,
          272,
          273,
          274,
          275,
          276,
          277,
          278,
          279,
          280,
          281,
          282,
          283,
          284,
          285,
          286,
          287,
          288,
          289,
          290,
          291,
          292,
          293,
          294,
          295,
          296,
          297,
          298,
          299,
          300,
          301,
          302,
          303,
          304,
          305,
          306,
          307,
          308,
          309,
          310,
          311,
          312,
          313,
          314,
          315,
          316,
          317,
          318,
          319,
          320,
          321,
          322,
          323,
          324,
          325,
          326,
          327,
          328,
          329,
          330,
          331,
          332,
          333,
          334,
          335,
          336,
          337,
          338,
          339,
          340,
          341,
          342,
          343,
          344,
          345,
          346,
          347,
          348,
          349,
          350,
          351,
          352,
          353,
          354,
          355,
          356,
          357,
          358,
          359,
          360,
          361,
          362,
          363,
          364,
          365,
          366,
          367,
          368,
          369,
          370,
          371,
          372,
          373,
          374,
          375,
          376,
          377,
          378,
          379,
          380,
          381,
          382,
          383,
          384,
          385,
          386,
          387,
          388,
          389,
          390,
          391,
          392,
          393,
          394,
          395,
          396,
          397,
          398,
          399,
          400,
          401,
          402,
          403,
          404,
          405,
          406,
          407,
          408,
          409,
          410,
          411,
          412,
          413,
          414,
          415,
          416,
          417,
          418,
          419,
          420,
          421,
          422,
          423,
          424,
          425,
          426,
          427,
          428,
          429,
          430,
          431,
          432,
          433,
          434,
          435,
          436,
          437,
          438,
          439,
          440,
          441,
          442,
          443,
          444,
          445,
          446,
          447,
          448,
          449,
          450,
          451,
          452,
          453,
          454,
          455,
          456,
          457,
          458,
          459,
          460,
          461,
          462,
          463,
          464,
          465,
          466,
          467,
          468,
          469,
          470,
          471,
          472,
          473,
          474,
          475,
          476,
          477,
          478,
          479,
          480,
          481,
          482,
          483,
          484,
          485,
          486,
          487,
          488,
          489,
          490,
          491,
          492,
          493,
          494,
          495,
          496,
          497,
          498,
          499,
          500,
          501,
          502,
          503,
          504,
          505,
          506,
          507,
          508,
          509,
          510,
          511,
          512,
          513,
          514,
          515,
          516,
          517,
          518,
          519,
          520,
          521,
          522,
          523,
          524
         ],
         "xaxis": "x",
         "y": [
          0,
          0,
          0,
          0,
          0,
          0,
          0,
          1,
          0,
          2,
          2,
          1,
          8,
          9,
          18,
          16,
          29,
          18,
          23,
          57,
          75,
          75,
          82,
          61,
          61,
          76,
          111,
          117,
          113,
          115,
          202,
          104,
          90,
          0,
          287,
          149,
          173,
          132,
          79,
          81,
          75,
          236,
          111,
          162,
          106,
          184,
          41,
          86,
          159,
          103,
          116,
          76,
          154,
          29,
          81,
          41,
          72,
          90,
          51,
          132,
          23,
          30,
          88,
          39,
          74,
          38,
          56,
          10,
          24,
          99,
          43,
          67,
          29,
          61,
          5,
          13,
          27,
          68,
          36,
          33,
          55,
          28,
          23,
          36,
          19,
          25,
          258,
          36,
          4,
          17,
          32,
          10,
          28,
          7,
          25,
          3,
          3,
          16,
          2,
          26,
          6,
          19,
          3,
          6,
          12,
          6,
          18,
          3,
          19,
          4,
          4,
          32,
          5,
          14,
          3,
          3,
          0,
          3,
          30,
          11,
          9,
          14,
          28,
          1,
          7,
          5,
          4,
          18,
          7,
          9,
          2,
          7,
          9,
          6,
          7,
          5,
          0,
          0,
          5,
          16,
          1,
          20,
          7,
          7,
          0,
          10,
          4,
          6,
          28,
          17,
          -4,
          -1,
          7,
          7,
          6,
          16,
          11,
          20,
          6,
          0,
          16,
          11,
          17,
          0,
          21,
          3,
          4,
          21,
          6,
          16,
          6,
          0,
          35,
          5,
          14,
          14,
          11,
          7,
          8,
          0,
          4,
          1,
          75,
          5,
          6,
          12,
          0,
          9,
          11,
          11,
          12,
          -3,
          15,
          0,
          12,
          16,
          15,
          7,
          8,
          17,
          0,
          7,
          21,
          11,
          17,
          9,
          14,
          0,
          15,
          22,
          7,
          24,
          7,
          19,
          0,
          6,
          30,
          13,
          34,
          15,
          23,
          0,
          23,
          21,
          34,
          46,
          19,
          38,
          0,
          29,
          31,
          20,
          47,
          11,
          36,
          0,
          16,
          46,
          22,
          50,
          46,
          0,
          0,
          129,
          87,
          43,
          46,
          118,
          70,
          0,
          55,
          83,
          61,
          144,
          54,
          100,
          0,
          65,
          155,
          75,
          0,
          182,
          104,
          0,
          95,
          192,
          85,
          191,
          79,
          201,
          0,
          96,
          203,
          82,
          195,
          66,
          230,
          0,
          92,
          204,
          92,
          205,
          64,
          212,
          -1,
          76,
          189,
          74,
          0,
          0,
          269,
          0,
          58,
          213,
          50,
          0,
          0,
          287,
          0,
          85,
          212,
          61,
          205,
          41,
          230,
          0,
          46,
          102,
          41,
          166,
          40,
          110,
          -1,
          27,
          2,
          85,
          157,
          23,
          229,
          -2,
          35,
          78,
          22,
          88,
          8,
          114,
          0,
          10,
          73,
          33,
          81,
          24,
          105,
          0,
          10,
          60,
          14,
          79,
          10,
          92,
          0,
          10,
          18,
          12,
          90,
          24,
          68,
          0,
          5,
          34,
          10,
          45,
          4,
          67,
          0,
          12,
          25,
          10,
          36,
          12,
          56,
          0,
          6,
          29,
          8,
          20,
          14,
          37,
          0,
          9,
          26,
          5,
          32,
          15,
          47,
          0,
          7,
          20,
          17,
          53,
          22,
          22,
          0,
          11,
          51,
          11,
          52,
          22,
          61,
          0,
          23,
          59,
          30,
          78,
          27,
          84,
          0,
          12,
          80,
          35,
          123,
          42,
          76,
          0,
          62,
          0,
          133,
          120,
          32,
          126,
          0,
          38,
          117,
          37,
          116,
          39,
          141,
          0,
          27,
          132,
          45,
          122,
          31,
          124,
          0,
          34,
          102,
          17,
          119,
          32,
          112,
          0,
          22,
          87,
          31,
          82,
          38,
          89,
          0,
          14,
          71,
          14,
          63,
          23,
          52,
          0,
          0,
          13,
          34,
          62,
          24,
          77,
          0,
          12,
          58,
          9,
          45,
          8,
          58,
          0,
          9,
          30,
          5,
          25,
          14,
          0,
          0,
          36,
          15,
          2,
          31,
          14,
          0,
          0,
          5,
          31,
          3,
          15,
          -4,
          0,
          0,
          0,
          22,
          0,
          0,
          28,
          0,
          0,
          0,
          32,
          0,
          0,
          17,
          0,
          0,
          0,
          15,
          0,
          0,
          22,
          0,
          0,
          0,
          17,
          0,
          0,
          23,
          0,
          0,
          0,
          29,
          0,
          0,
          5,
          0,
          0,
          7,
          0,
          24,
          0,
          32,
          0,
          0,
          20
         ],
         "yaxis": "y"
        }
       ],
       "layout": {
        "legend": {
         "title": {
          "text": "variable"
         },
         "tracegroupgap": 0
        },
        "margin": {
         "t": 60
        },
        "template": {
         "data": {
          "bar": [
           {
            "error_x": {
             "color": "#2a3f5f"
            },
            "error_y": {
             "color": "#2a3f5f"
            },
            "marker": {
             "line": {
              "color": "#E5ECF6",
              "width": 0.5
             },
             "pattern": {
              "fillmode": "overlay",
              "size": 10,
              "solidity": 0.2
             }
            },
            "type": "bar"
           }
          ],
          "barpolar": [
           {
            "marker": {
             "line": {
              "color": "#E5ECF6",
              "width": 0.5
             },
             "pattern": {
              "fillmode": "overlay",
              "size": 10,
              "solidity": 0.2
             }
            },
            "type": "barpolar"
           }
          ],
          "carpet": [
           {
            "aaxis": {
             "endlinecolor": "#2a3f5f",
             "gridcolor": "white",
             "linecolor": "white",
             "minorgridcolor": "white",
             "startlinecolor": "#2a3f5f"
            },
            "baxis": {
             "endlinecolor": "#2a3f5f",
             "gridcolor": "white",
             "linecolor": "white",
             "minorgridcolor": "white",
             "startlinecolor": "#2a3f5f"
            },
            "type": "carpet"
           }
          ],
          "choropleth": [
           {
            "colorbar": {
             "outlinewidth": 0,
             "ticks": ""
            },
            "type": "choropleth"
           }
          ],
          "contour": [
           {
            "colorbar": {
             "outlinewidth": 0,
             "ticks": ""
            },
            "colorscale": [
             [
              0,
              "#0d0887"
             ],
             [
              0.1111111111111111,
              "#46039f"
             ],
             [
              0.2222222222222222,
              "#7201a8"
             ],
             [
              0.3333333333333333,
              "#9c179e"
             ],
             [
              0.4444444444444444,
              "#bd3786"
             ],
             [
              0.5555555555555556,
              "#d8576b"
             ],
             [
              0.6666666666666666,
              "#ed7953"
             ],
             [
              0.7777777777777778,
              "#fb9f3a"
             ],
             [
              0.8888888888888888,
              "#fdca26"
             ],
             [
              1,
              "#f0f921"
             ]
            ],
            "type": "contour"
           }
          ],
          "contourcarpet": [
           {
            "colorbar": {
             "outlinewidth": 0,
             "ticks": ""
            },
            "type": "contourcarpet"
           }
          ],
          "heatmap": [
           {
            "colorbar": {
             "outlinewidth": 0,
             "ticks": ""
            },
            "colorscale": [
             [
              0,
              "#0d0887"
             ],
             [
              0.1111111111111111,
              "#46039f"
             ],
             [
              0.2222222222222222,
              "#7201a8"
             ],
             [
              0.3333333333333333,
              "#9c179e"
             ],
             [
              0.4444444444444444,
              "#bd3786"
             ],
             [
              0.5555555555555556,
              "#d8576b"
             ],
             [
              0.6666666666666666,
              "#ed7953"
             ],
             [
              0.7777777777777778,
              "#fb9f3a"
             ],
             [
              0.8888888888888888,
              "#fdca26"
             ],
             [
              1,
              "#f0f921"
             ]
            ],
            "type": "heatmap"
           }
          ],
          "heatmapgl": [
           {
            "colorbar": {
             "outlinewidth": 0,
             "ticks": ""
            },
            "colorscale": [
             [
              0,
              "#0d0887"
             ],
             [
              0.1111111111111111,
              "#46039f"
             ],
             [
              0.2222222222222222,
              "#7201a8"
             ],
             [
              0.3333333333333333,
              "#9c179e"
             ],
             [
              0.4444444444444444,
              "#bd3786"
             ],
             [
              0.5555555555555556,
              "#d8576b"
             ],
             [
              0.6666666666666666,
              "#ed7953"
             ],
             [
              0.7777777777777778,
              "#fb9f3a"
             ],
             [
              0.8888888888888888,
              "#fdca26"
             ],
             [
              1,
              "#f0f921"
             ]
            ],
            "type": "heatmapgl"
           }
          ],
          "histogram": [
           {
            "marker": {
             "pattern": {
              "fillmode": "overlay",
              "size": 10,
              "solidity": 0.2
             }
            },
            "type": "histogram"
           }
          ],
          "histogram2d": [
           {
            "colorbar": {
             "outlinewidth": 0,
             "ticks": ""
            },
            "colorscale": [
             [
              0,
              "#0d0887"
             ],
             [
              0.1111111111111111,
              "#46039f"
             ],
             [
              0.2222222222222222,
              "#7201a8"
             ],
             [
              0.3333333333333333,
              "#9c179e"
             ],
             [
              0.4444444444444444,
              "#bd3786"
             ],
             [
              0.5555555555555556,
              "#d8576b"
             ],
             [
              0.6666666666666666,
              "#ed7953"
             ],
             [
              0.7777777777777778,
              "#fb9f3a"
             ],
             [
              0.8888888888888888,
              "#fdca26"
             ],
             [
              1,
              "#f0f921"
             ]
            ],
            "type": "histogram2d"
           }
          ],
          "histogram2dcontour": [
           {
            "colorbar": {
             "outlinewidth": 0,
             "ticks": ""
            },
            "colorscale": [
             [
              0,
              "#0d0887"
             ],
             [
              0.1111111111111111,
              "#46039f"
             ],
             [
              0.2222222222222222,
              "#7201a8"
             ],
             [
              0.3333333333333333,
              "#9c179e"
             ],
             [
              0.4444444444444444,
              "#bd3786"
             ],
             [
              0.5555555555555556,
              "#d8576b"
             ],
             [
              0.6666666666666666,
              "#ed7953"
             ],
             [
              0.7777777777777778,
              "#fb9f3a"
             ],
             [
              0.8888888888888888,
              "#fdca26"
             ],
             [
              1,
              "#f0f921"
             ]
            ],
            "type": "histogram2dcontour"
           }
          ],
          "mesh3d": [
           {
            "colorbar": {
             "outlinewidth": 0,
             "ticks": ""
            },
            "type": "mesh3d"
           }
          ],
          "parcoords": [
           {
            "line": {
             "colorbar": {
              "outlinewidth": 0,
              "ticks": ""
             }
            },
            "type": "parcoords"
           }
          ],
          "pie": [
           {
            "automargin": true,
            "type": "pie"
           }
          ],
          "scatter": [
           {
            "marker": {
             "colorbar": {
              "outlinewidth": 0,
              "ticks": ""
             }
            },
            "type": "scatter"
           }
          ],
          "scatter3d": [
           {
            "line": {
             "colorbar": {
              "outlinewidth": 0,
              "ticks": ""
             }
            },
            "marker": {
             "colorbar": {
              "outlinewidth": 0,
              "ticks": ""
             }
            },
            "type": "scatter3d"
           }
          ],
          "scattercarpet": [
           {
            "marker": {
             "colorbar": {
              "outlinewidth": 0,
              "ticks": ""
             }
            },
            "type": "scattercarpet"
           }
          ],
          "scattergeo": [
           {
            "marker": {
             "colorbar": {
              "outlinewidth": 0,
              "ticks": ""
             }
            },
            "type": "scattergeo"
           }
          ],
          "scattergl": [
           {
            "marker": {
             "colorbar": {
              "outlinewidth": 0,
              "ticks": ""
             }
            },
            "type": "scattergl"
           }
          ],
          "scattermapbox": [
           {
            "marker": {
             "colorbar": {
              "outlinewidth": 0,
              "ticks": ""
             }
            },
            "type": "scattermapbox"
           }
          ],
          "scatterpolar": [
           {
            "marker": {
             "colorbar": {
              "outlinewidth": 0,
              "ticks": ""
             }
            },
            "type": "scatterpolar"
           }
          ],
          "scatterpolargl": [
           {
            "marker": {
             "colorbar": {
              "outlinewidth": 0,
              "ticks": ""
             }
            },
            "type": "scatterpolargl"
           }
          ],
          "scatterternary": [
           {
            "marker": {
             "colorbar": {
              "outlinewidth": 0,
              "ticks": ""
             }
            },
            "type": "scatterternary"
           }
          ],
          "surface": [
           {
            "colorbar": {
             "outlinewidth": 0,
             "ticks": ""
            },
            "colorscale": [
             [
              0,
              "#0d0887"
             ],
             [
              0.1111111111111111,
              "#46039f"
             ],
             [
              0.2222222222222222,
              "#7201a8"
             ],
             [
              0.3333333333333333,
              "#9c179e"
             ],
             [
              0.4444444444444444,
              "#bd3786"
             ],
             [
              0.5555555555555556,
              "#d8576b"
             ],
             [
              0.6666666666666666,
              "#ed7953"
             ],
             [
              0.7777777777777778,
              "#fb9f3a"
             ],
             [
              0.8888888888888888,
              "#fdca26"
             ],
             [
              1,
              "#f0f921"
             ]
            ],
            "type": "surface"
           }
          ],
          "table": [
           {
            "cells": {
             "fill": {
              "color": "#EBF0F8"
             },
             "line": {
              "color": "white"
             }
            },
            "header": {
             "fill": {
              "color": "#C8D4E3"
             },
             "line": {
              "color": "white"
             }
            },
            "type": "table"
           }
          ]
         },
         "layout": {
          "annotationdefaults": {
           "arrowcolor": "#2a3f5f",
           "arrowhead": 0,
           "arrowwidth": 1
          },
          "autotypenumbers": "strict",
          "coloraxis": {
           "colorbar": {
            "outlinewidth": 0,
            "ticks": ""
           }
          },
          "colorscale": {
           "diverging": [
            [
             0,
             "#8e0152"
            ],
            [
             0.1,
             "#c51b7d"
            ],
            [
             0.2,
             "#de77ae"
            ],
            [
             0.3,
             "#f1b6da"
            ],
            [
             0.4,
             "#fde0ef"
            ],
            [
             0.5,
             "#f7f7f7"
            ],
            [
             0.6,
             "#e6f5d0"
            ],
            [
             0.7,
             "#b8e186"
            ],
            [
             0.8,
             "#7fbc41"
            ],
            [
             0.9,
             "#4d9221"
            ],
            [
             1,
             "#276419"
            ]
           ],
           "sequential": [
            [
             0,
             "#0d0887"
            ],
            [
             0.1111111111111111,
             "#46039f"
            ],
            [
             0.2222222222222222,
             "#7201a8"
            ],
            [
             0.3333333333333333,
             "#9c179e"
            ],
            [
             0.4444444444444444,
             "#bd3786"
            ],
            [
             0.5555555555555556,
             "#d8576b"
            ],
            [
             0.6666666666666666,
             "#ed7953"
            ],
            [
             0.7777777777777778,
             "#fb9f3a"
            ],
            [
             0.8888888888888888,
             "#fdca26"
            ],
            [
             1,
             "#f0f921"
            ]
           ],
           "sequentialminus": [
            [
             0,
             "#0d0887"
            ],
            [
             0.1111111111111111,
             "#46039f"
            ],
            [
             0.2222222222222222,
             "#7201a8"
            ],
            [
             0.3333333333333333,
             "#9c179e"
            ],
            [
             0.4444444444444444,
             "#bd3786"
            ],
            [
             0.5555555555555556,
             "#d8576b"
            ],
            [
             0.6666666666666666,
             "#ed7953"
            ],
            [
             0.7777777777777778,
             "#fb9f3a"
            ],
            [
             0.8888888888888888,
             "#fdca26"
            ],
            [
             1,
             "#f0f921"
            ]
           ]
          },
          "colorway": [
           "#636efa",
           "#EF553B",
           "#00cc96",
           "#ab63fa",
           "#FFA15A",
           "#19d3f3",
           "#FF6692",
           "#B6E880",
           "#FF97FF",
           "#FECB52"
          ],
          "font": {
           "color": "#2a3f5f"
          },
          "geo": {
           "bgcolor": "white",
           "lakecolor": "white",
           "landcolor": "#E5ECF6",
           "showlakes": true,
           "showland": true,
           "subunitcolor": "white"
          },
          "hoverlabel": {
           "align": "left"
          },
          "hovermode": "closest",
          "mapbox": {
           "style": "light"
          },
          "paper_bgcolor": "white",
          "plot_bgcolor": "#E5ECF6",
          "polar": {
           "angularaxis": {
            "gridcolor": "white",
            "linecolor": "white",
            "ticks": ""
           },
           "bgcolor": "#E5ECF6",
           "radialaxis": {
            "gridcolor": "white",
            "linecolor": "white",
            "ticks": ""
           }
          },
          "scene": {
           "xaxis": {
            "backgroundcolor": "#E5ECF6",
            "gridcolor": "white",
            "gridwidth": 2,
            "linecolor": "white",
            "showbackground": true,
            "ticks": "",
            "zerolinecolor": "white"
           },
           "yaxis": {
            "backgroundcolor": "#E5ECF6",
            "gridcolor": "white",
            "gridwidth": 2,
            "linecolor": "white",
            "showbackground": true,
            "ticks": "",
            "zerolinecolor": "white"
           },
           "zaxis": {
            "backgroundcolor": "#E5ECF6",
            "gridcolor": "white",
            "gridwidth": 2,
            "linecolor": "white",
            "showbackground": true,
            "ticks": "",
            "zerolinecolor": "white"
           }
          },
          "shapedefaults": {
           "line": {
            "color": "#2a3f5f"
           }
          },
          "ternary": {
           "aaxis": {
            "gridcolor": "white",
            "linecolor": "white",
            "ticks": ""
           },
           "baxis": {
            "gridcolor": "white",
            "linecolor": "white",
            "ticks": ""
           },
           "bgcolor": "#E5ECF6",
           "caxis": {
            "gridcolor": "white",
            "linecolor": "white",
            "ticks": ""
           }
          },
          "title": {
           "x": 0.05
          },
          "xaxis": {
           "automargin": true,
           "gridcolor": "white",
           "linecolor": "white",
           "ticks": "",
           "title": {
            "standoff": 15
           },
           "zerolinecolor": "white",
           "zerolinewidth": 2
          },
          "yaxis": {
           "automargin": true,
           "gridcolor": "white",
           "linecolor": "white",
           "ticks": "",
           "title": {
            "standoff": 15
           },
           "zerolinecolor": "white",
           "zerolinewidth": 2
          }
         }
        },
        "xaxis": {
         "anchor": "y",
         "domain": [
          0,
          1
         ],
         "title": {
          "text": "No_of_days_since_first_case"
         }
        },
        "yaxis": {
         "anchor": "x",
         "domain": [
          0,
          1
         ],
         "title": {
          "text": "value"
         }
        }
       }
      }
     },
     "metadata": {},
     "output_type": "display_data"
    }
   ],
   "source": [
    "fig.show()"
   ]
  },
  {
   "cell_type": "markdown",
   "metadata": {},
   "source": [
    "***Linear Regression Model for Number of new cases in Michigan State***"
   ]
  },
  {
   "cell_type": "code",
   "execution_count": 70,
   "metadata": {},
   "outputs": [
    {
     "data": {
      "image/png": "[encoded data removed]",
      "text/plain": [
       "<Figure size 432x288 with 1 Axes>"
      ]
     },
     "metadata": {
      "needs_background": "light"
     },
     "output_type": "display_data"
    },
    {
     "name": "stdout",
     "output_type": "stream",
     "text": [
      "Root Mean Square Error: 2003.1774889894125\n"
     ]
    }
   ],
   "source": [
    "#Splitting data into test and train datasets using train_test_split funtion\n",
    "#Fitting a linear regression model\n",
    "x=np.array(data['No_of_days_since_first_case']).reshape((-1, 1))\n",
    "y=np.array(data['Number of new cases'])\n",
    "X_train, X_test, y_train, y_test = train_test_split(x,y, train_size = 0.8, test_size = 0.2, random_state = 10)\n",
    "model= LinearRegression()\n",
    "model.fit(X_train,y_train)\n",
    "p_y = model.predict(X_test)\n",
    "\n",
    "\n",
    "#predicting path\n",
    "p_days = 100\n",
    "days = x[-1] + np.arange(p_days)\n",
    "forecast = model.predict(days.reshape(-1, 1))\n",
    "plt.plot(days, forecast, '--', color='black')\n",
    "\n",
    "plt.scatter(X_test, y_test,  color='red')\n",
    "plt.plot(X_test, p_y, color='blue', linewidth=2)\n",
    "plt.title('Linear Regression')\n",
    "plt.xlabel('No_of_days_since_first_case')\n",
    "plt.ylabel('Number of new cases')\n",
    "plt.show()\n",
    "\n",
    "\n",
    "print('Root Mean Square Error:', np.sqrt(metrics.mean_squared_error(y_test, p_y)))"
   ]
  },
  {
   "cell_type": "markdown",
   "metadata": {},
   "source": [
    "***Polynomial Regression for Number New of cases***"
   ]
  },
  {
   "cell_type": "code",
   "execution_count": 71,
   "metadata": {},
   "outputs": [],
   "source": [
    "#Fitting a Polynomial regression model\n",
    "poly_Reg = PolynomialFeatures(degree=4)\n",
    "X_poly = poly_Reg.fit_transform(x)\n",
    "pol_Reg = LinearRegression()\n",
    "pol_Reg.fit(X_poly, y)   \n",
    "p_y1 = pol_Reg.predict(X_poly) \n",
    "\n",
    "#predicting path\n",
    "p_days = 100\n",
    "days = x[-1] + np.arange(p_days)\n",
    "fore_poly = poly_Reg.fit_transform(days.reshape(-1, 1))\n",
    "forecast = pol_Reg.predict(fore_poly)\n"
   ]
  },
  {
   "cell_type": "code",
   "execution_count": 72,
   "metadata": {},
   "outputs": [
    {
     "data": {
      "image/png": "[encoded data removed]",
      "text/plain": [
       "<Figure size 432x288 with 1 Axes>"
      ]
     },
     "metadata": {
      "needs_background": "light"
     },
     "output_type": "display_data"
    },
    {
     "name": "stdout",
     "output_type": "stream",
     "text": [
      "Root Mean Square Error: 2056.341480946388\n"
     ]
    }
   ],
   "source": [
    "plt.plot(days, forecast, '--', color='black')\n",
    "plt.scatter(x, y)\n",
    "plt.plot(x,p_y1,color='red')\n",
    "plt.show()\n",
    "\n",
    "#Determining RMSE\n",
    "print('Root Mean Square Error:', np.sqrt(metrics.mean_squared_error(x, p_y1)))"
   ]
  },
  {
   "cell_type": "markdown",
   "metadata": {},
   "source": [
    "***Linear Regression for Number of new deaths in Michigan state***"
   ]
  },
  {
   "cell_type": "code",
   "execution_count": 73,
   "metadata": {},
   "outputs": [
    {
     "data": {
      "image/png": "[encoded data removed]",
      "text/plain": [
       "<Figure size 432x288 with 1 Axes>"
      ]
     },
     "metadata": {
      "needs_background": "light"
     },
     "output_type": "display_data"
    },
    {
     "name": "stdout",
     "output_type": "stream",
     "text": [
      "Root Mean Square Error: 45.1913782536943\n"
     ]
    }
   ],
   "source": [
    "x1=np.array(data['No_of_days_since_first_case']).reshape((-1, 1))\n",
    "y1=np.array(data['Number of new deaths'])\n",
    "X_train, X_test, y_train, y_test = train_test_split(x1,y1, train_size = 0.8, test_size = 0.2, random_state = 10)\n",
    "model= LinearRegression()\n",
    "model.fit(X_train,y_train)\n",
    "p_y2 = model.predict(X_test)\n",
    "\n",
    "#predicting path\n",
    "p_days = 100\n",
    "days = x[-1] + np.arange(p_days)\n",
    "forecast = model.predict(days.reshape(-1, 1))\n",
    "plt.plot(days, forecast, '--', color='black')\n",
    "\n",
    "plt.scatter(X_test, y_test,  color='red')\n",
    "plt.plot(X_test, p_y2, color='blue', linewidth=2)\n",
    "plt.title('Linear Regression')\n",
    "plt.xlabel('No_of_days_since_first_case')\n",
    "plt.ylabel('Number of new deaths')\n",
    "plt.show()\n",
    "\n",
    "print('Root Mean Square Error:', np.sqrt(metrics.mean_squared_error(y_test, p_y2)))"
   ]
  },
  {
   "cell_type": "markdown",
   "metadata": {},
   "source": [
    "***Polynomial Regression for New deaths***"
   ]
  },
  {
   "cell_type": "code",
   "execution_count": 74,
   "metadata": {},
   "outputs": [],
   "source": [
    "poly_Reg = PolynomialFeatures(degree=4)\n",
    "X_poly = poly_Reg.fit_transform(x1)\n",
    "pol_Reg = LinearRegression()\n",
    "pol_Reg.fit(X_poly, y1)   \n",
    "p_y3 = pol_Reg.predict(X_poly) \n",
    "\n",
    "\n",
    "#predicting path\n",
    "p_days = 100\n",
    "days = x1[-1] + np.arange(p_days)\n",
    "fore_poly = poly_Reg.fit_transform(days.reshape(-1, 1))\n",
    "forecast = pol_Reg.predict(fore_poly)\n"
   ]
  },
  {
   "cell_type": "code",
   "execution_count": 75,
   "metadata": {},
   "outputs": [
    {
     "data": {
      "image/png": "[encoded data removed]",
      "text/plain": [
       "<Figure size 432x288 with 1 Axes>"
      ]
     },
     "metadata": {
      "needs_background": "light"
     },
     "output_type": "display_data"
    },
    {
     "name": "stdout",
     "output_type": "stream",
     "text": [
      "Root Mean Square Error: 272.27003764892123\n"
     ]
    }
   ],
   "source": [
    "plt.plot(days, forecast, '--', color='black')\n",
    "plt.scatter(x1, y1)\n",
    "plt.plot(x1,p_y1,color='red')\n",
    "plt.show()\n",
    "\n",
    "print('Root Mean Square Error:', np.sqrt(metrics.mean_squared_error(x, p_y3)))"
   ]
  },
  {
   "cell_type": "code",
   "execution_count": 76,
   "metadata": {},
   "outputs": [],
   "source": [
    "# defining Trendline Function\n",
    "def TrendLine(x,y):\n",
    "    plt.scatter(x, y)\n",
    "    z = np.polyfit(x, y, 1)\n",
    "    p = np.poly1d(z)\n",
    "    plt.plot(x,p(x),\"r--\")\n",
    "    plt.show()"
   ]
  },
  {
   "cell_type": "markdown",
   "metadata": {},
   "source": [
    "***TrendLine for Michigan State on New cases column***"
   ]
  },
  {
   "cell_type": "code",
   "execution_count": 77,
   "metadata": {},
   "outputs": [
    {
     "data": {
      "image/png": "[encoded data removed]",
      "text/plain": [
       "<Figure size 432x288 with 1 Axes>"
      ]
     },
     "metadata": {
      "needs_background": "light"
     },
     "output_type": "display_data"
    }
   ],
   "source": [
    "C=data['No_of_days_since_first_case']\n",
    "D=data['Number of new cases']\n",
    "TrendLine(C,D)"
   ]
  },
  {
   "cell_type": "markdown",
   "metadata": {},
   "source": [
    "***TrendLine for Michigan State on New deaths column***"
   ]
  },
  {
   "cell_type": "code",
   "execution_count": 78,
   "metadata": {},
   "outputs": [
    {
     "data": {
      "image/png": "[encoded data removed]",
      "text/plain": [
       "<Figure size 432x288 with 1 Axes>"
      ]
     },
     "metadata": {
      "needs_background": "light"
     },
     "output_type": "display_data"
    }
   ],
   "source": [
    "DD=data['Number of new deaths']\n",
    "TrendLine(C,DD)"
   ]
  },
  {
   "cell_type": "code",
   "execution_count": 79,
   "metadata": {},
   "outputs": [],
   "source": [
    "# Defining Confidence Intervel Funtion\n",
    "def ConfidenceIntervel(x,y):\n",
    "    ci = 1.96 * np.std(y)/np.sqrt(len(x))\n",
    "\n",
    "    fig, ax = plt.subplots()\n",
    "    ax.plot(x,y)\n",
    "    ax.fill_between(x, (y-ci), (y+ci), color='b', alpha=.1)"
   ]
  },
  {
   "cell_type": "markdown",
   "metadata": {},
   "source": [
    "***ConfidenceLevel for Michigan State on new cases column***"
   ]
  },
  {
   "cell_type": "code",
   "execution_count": 80,
   "metadata": {},
   "outputs": [
    {
     "data": {
      "image/png": "[encoded data removed]",
      "text/plain": [
       "<Figure size 432x288 with 1 Axes>"
      ]
     },
     "metadata": {
      "needs_background": "light"
     },
     "output_type": "display_data"
    }
   ],
   "source": [
    "Z=data['No_of_days_since_first_case']\n",
    "K=data['Number of new cases']\n",
    "ConfidenceIntervel(Z,K)"
   ]
  },
  {
   "cell_type": "markdown",
   "metadata": {},
   "source": [
    "***ConfidenceLevel for Michigan State on new deaths column***"
   ]
  },
  {
   "cell_type": "code",
   "execution_count": 81,
   "metadata": {},
   "outputs": [
    {
     "data": {
      "image/png": "[encoded data removed]",
      "text/plain": [
       "<Figure size 432x288 with 1 Axes>"
      ]
     },
     "metadata": {
      "needs_background": "light"
     },
     "output_type": "display_data"
    }
   ],
   "source": [
    "KK=data['Number of new deaths']\n",
    "ConfidenceIntervel(Z,KK)"
   ]
  },
  {
   "cell_type": "markdown",
   "metadata": {},
   "source": [
    "***Counties in Michigan Which are mostly at risk***"
   ]
  },
  {
   "cell_type": "code",
   "execution_count": 82,
   "metadata": {},
   "outputs": [
    {
     "data": {
      "text/html": [
       "<div>\n",
       "<style scoped>\n",
       "    .dataframe tbody tr th:only-of-type {\n",
       "        vertical-align: middle;\n",
       "    }\n",
       "\n",
       "    .dataframe tbody tr th {\n",
       "        vertical-align: top;\n",
       "    }\n",
       "\n",
       "    .dataframe thead th {\n",
       "        text-align: right;\n",
       "    }\n",
       "</style>\n",
       "<table border=\"1\" class=\"dataframe\">\n",
       "  <thead>\n",
       "    <tr style=\"text-align: right;\">\n",
       "      <th></th>\n",
       "      <th>County Name</th>\n",
       "      <th>confirmed</th>\n",
       "      <th>deaths</th>\n",
       "    </tr>\n",
       "  </thead>\n",
       "  <tbody>\n",
       "    <tr>\n",
       "      <th>81</th>\n",
       "      <td>wayne county</td>\n",
       "      <td>40438487</td>\n",
       "      <td>1776445</td>\n",
       "    </tr>\n",
       "    <tr>\n",
       "      <th>62</th>\n",
       "      <td>oakland county</td>\n",
       "      <td>28150717</td>\n",
       "      <td>796111</td>\n",
       "    </tr>\n",
       "    <tr>\n",
       "      <th>49</th>\n",
       "      <td>macomb county</td>\n",
       "      <td>22893411</td>\n",
       "      <td>758031</td>\n",
       "    </tr>\n",
       "    <tr>\n",
       "      <th>40</th>\n",
       "      <td>kent county</td>\n",
       "      <td>17595420</td>\n",
       "      <td>223080</td>\n",
       "    </tr>\n",
       "    <tr>\n",
       "      <th>24</th>\n",
       "      <td>genesee county</td>\n",
       "      <td>9433449</td>\n",
       "      <td>276243</td>\n",
       "    </tr>\n",
       "  </tbody>\n",
       "</table>\n",
       "</div>"
      ],
      "text/plain": [
       "       County Name  confirmed   deaths\n",
       "81    wayne county   40438487  1776445\n",
       "62  oakland county   28150717   796111\n",
       "49   macomb county   22893411   758031\n",
       "40     kent county   17595420   223080\n",
       "24  genesee county    9433449   276243"
      ]
     },
     "execution_count": 82,
     "metadata": {},
     "output_type": "execute_result"
    }
   ],
   "source": [
    "final_data1=final_data[final_data['County Name']!='statewide unallocated']\n",
    "final_data1=final_data1[final_data1['State']=='MI']\n",
    "final_data1=final_data1.groupby([\"County Name\"]).sum().reset_index()\n",
    "final_data1=final_data1.drop(['countyFIPS','StateFIPS','population'],axis=1)\n",
    "final_data1=final_data1.sort_values(by=['confirmed'],ascending=False)\n",
    "final_data1=final_data1.head()\n",
    "final_data1"
   ]
  },
  {
   "cell_type": "code",
   "execution_count": 83,
   "metadata": {},
   "outputs": [],
   "source": [
    "final_data=final_data[final_data['State']=='MI']\n",
    "top_five_counties=final_data[final_data[\"County Name\"].isin(final_data1['County Name'])]\n",
    "top_five_counties=top_five_counties.drop(['countyFIPS','StateFIPS','population'],axis=1)\n",
    "top_five_counties['Number of New cases']=top_five_counties['confirmed'].diff()\n",
    "top_five_counties['Number of New deaths']=top_five_counties['deaths'].diff()\n",
    "top_five_counties=top_five_counties.dropna()"
   ]
  },
  {
   "cell_type": "code",
   "execution_count": 84,
   "metadata": {},
   "outputs": [],
   "source": [
    "first_covid_case = top_five_counties[top_five_counties['confirmed'] > 0]['date'].min()"
   ]
  },
  {
   "cell_type": "code",
   "execution_count": 85,
   "metadata": {},
   "outputs": [
    {
     "name": "stderr",
     "output_type": "stream",
     "text": [
      "C:\\Users\\hp\\AppData\\Local\\Temp\\ipykernel_10624\\1504261234.py:2: SettingWithCopyWarning:\n",
      "\n",
      "\n",
      "A value is trying to be set on a copy of a slice from a DataFrame.\n",
      "Try using .loc[row_indexer,col_indexer] = value instead\n",
      "\n",
      "See the caveats in the documentation: https://pandas.pydata.org/pandas-docs/stable/user_guide/indexing.html#returning-a-view-versus-a-copy\n",
      "\n"
     ]
    },
    {
     "data": {
      "text/html": [
       "<div>\n",
       "<style scoped>\n",
       "    .dataframe tbody tr th:only-of-type {\n",
       "        vertical-align: middle;\n",
       "    }\n",
       "\n",
       "    .dataframe tbody tr th {\n",
       "        vertical-align: top;\n",
       "    }\n",
       "\n",
       "    .dataframe thead th {\n",
       "        text-align: right;\n",
       "    }\n",
       "</style>\n",
       "<table border=\"1\" class=\"dataframe\">\n",
       "  <thead>\n",
       "    <tr style=\"text-align: right;\">\n",
       "      <th></th>\n",
       "      <th>County Name</th>\n",
       "      <th>State</th>\n",
       "      <th>date</th>\n",
       "      <th>confirmed</th>\n",
       "      <th>deaths</th>\n",
       "      <th>Number of New cases</th>\n",
       "      <th>Number of New deaths</th>\n",
       "      <th>day_since_first_covid_case</th>\n",
       "    </tr>\n",
       "  </thead>\n",
       "  <tbody>\n",
       "    <tr>\n",
       "      <th>724320</th>\n",
       "      <td>genesee county</td>\n",
       "      <td>MI</td>\n",
       "      <td>2020-03-10</td>\n",
       "      <td>0</td>\n",
       "      <td>0</td>\n",
       "      <td>0.0</td>\n",
       "      <td>0.0</td>\n",
       "      <td>0</td>\n",
       "    </tr>\n",
       "    <tr>\n",
       "      <th>724321</th>\n",
       "      <td>genesee county</td>\n",
       "      <td>MI</td>\n",
       "      <td>2020-03-11</td>\n",
       "      <td>0</td>\n",
       "      <td>0</td>\n",
       "      <td>0.0</td>\n",
       "      <td>0.0</td>\n",
       "      <td>1</td>\n",
       "    </tr>\n",
       "    <tr>\n",
       "      <th>724322</th>\n",
       "      <td>genesee county</td>\n",
       "      <td>MI</td>\n",
       "      <td>2020-03-12</td>\n",
       "      <td>0</td>\n",
       "      <td>0</td>\n",
       "      <td>0.0</td>\n",
       "      <td>0.0</td>\n",
       "      <td>2</td>\n",
       "    </tr>\n",
       "    <tr>\n",
       "      <th>724323</th>\n",
       "      <td>genesee county</td>\n",
       "      <td>MI</td>\n",
       "      <td>2020-03-13</td>\n",
       "      <td>0</td>\n",
       "      <td>0</td>\n",
       "      <td>0.0</td>\n",
       "      <td>0.0</td>\n",
       "      <td>3</td>\n",
       "    </tr>\n",
       "    <tr>\n",
       "      <th>724324</th>\n",
       "      <td>genesee county</td>\n",
       "      <td>MI</td>\n",
       "      <td>2020-03-14</td>\n",
       "      <td>0</td>\n",
       "      <td>0</td>\n",
       "      <td>0.0</td>\n",
       "      <td>0.0</td>\n",
       "      <td>4</td>\n",
       "    </tr>\n",
       "    <tr>\n",
       "      <th>...</th>\n",
       "      <td>...</td>\n",
       "      <td>...</td>\n",
       "      <td>...</td>\n",
       "      <td>...</td>\n",
       "      <td>...</td>\n",
       "      <td>...</td>\n",
       "      <td>...</td>\n",
       "      <td>...</td>\n",
       "    </tr>\n",
       "    <tr>\n",
       "      <th>757501</th>\n",
       "      <td>wayne county</td>\n",
       "      <td>MI</td>\n",
       "      <td>2021-08-12</td>\n",
       "      <td>170477</td>\n",
       "      <td>5225</td>\n",
       "      <td>0.0</td>\n",
       "      <td>0.0</td>\n",
       "      <td>520</td>\n",
       "    </tr>\n",
       "    <tr>\n",
       "      <th>757502</th>\n",
       "      <td>wayne county</td>\n",
       "      <td>MI</td>\n",
       "      <td>2021-08-13</td>\n",
       "      <td>171056</td>\n",
       "      <td>5229</td>\n",
       "      <td>579.0</td>\n",
       "      <td>4.0</td>\n",
       "      <td>521</td>\n",
       "    </tr>\n",
       "    <tr>\n",
       "      <th>757503</th>\n",
       "      <td>wayne county</td>\n",
       "      <td>MI</td>\n",
       "      <td>2021-08-14</td>\n",
       "      <td>171056</td>\n",
       "      <td>5229</td>\n",
       "      <td>0.0</td>\n",
       "      <td>0.0</td>\n",
       "      <td>522</td>\n",
       "    </tr>\n",
       "    <tr>\n",
       "      <th>757504</th>\n",
       "      <td>wayne county</td>\n",
       "      <td>MI</td>\n",
       "      <td>2021-08-15</td>\n",
       "      <td>171056</td>\n",
       "      <td>5229</td>\n",
       "      <td>0.0</td>\n",
       "      <td>0.0</td>\n",
       "      <td>523</td>\n",
       "    </tr>\n",
       "    <tr>\n",
       "      <th>757505</th>\n",
       "      <td>wayne county</td>\n",
       "      <td>MI</td>\n",
       "      <td>2021-08-16</td>\n",
       "      <td>171731</td>\n",
       "      <td>5229</td>\n",
       "      <td>675.0</td>\n",
       "      <td>0.0</td>\n",
       "      <td>524</td>\n",
       "    </tr>\n",
       "  </tbody>\n",
       "</table>\n",
       "<p>2625 rows × 8 columns</p>\n",
       "</div>"
      ],
      "text/plain": [
       "           County Name State       date  confirmed  deaths  \\\n",
       "724320  genesee county    MI 2020-03-10          0       0   \n",
       "724321  genesee county    MI 2020-03-11          0       0   \n",
       "724322  genesee county    MI 2020-03-12          0       0   \n",
       "724323  genesee county    MI 2020-03-13          0       0   \n",
       "724324  genesee county    MI 2020-03-14          0       0   \n",
       "...                ...   ...        ...        ...     ...   \n",
       "757501    wayne county    MI 2021-08-12     170477    5225   \n",
       "757502    wayne county    MI 2021-08-13     171056    5229   \n",
       "757503    wayne county    MI 2021-08-14     171056    5229   \n",
       "757504    wayne county    MI 2021-08-15     171056    5229   \n",
       "757505    wayne county    MI 2021-08-16     171731    5229   \n",
       "\n",
       "        Number of New cases  Number of New deaths  day_since_first_covid_case  \n",
       "724320                  0.0                   0.0                           0  \n",
       "724321                  0.0                   0.0                           1  \n",
       "724322                  0.0                   0.0                           2  \n",
       "724323                  0.0                   0.0                           3  \n",
       "724324                  0.0                   0.0                           4  \n",
       "...                     ...                   ...                         ...  \n",
       "757501                  0.0                   0.0                         520  \n",
       "757502                579.0                   4.0                         521  \n",
       "757503                  0.0                   0.0                         522  \n",
       "757504                  0.0                   0.0                         523  \n",
       "757505                675.0                   0.0                         524  \n",
       "\n",
       "[2625 rows x 8 columns]"
      ]
     },
     "execution_count": 85,
     "metadata": {},
     "output_type": "execute_result"
    }
   ],
   "source": [
    "top_five_counties_details = top_five_counties[top_five_counties['date'] >= first_covid_case]\n",
    "top_five_counties_details['day_since_first_covid_case'] = (top_five_counties_details['date'] - first_covid_case).dt.days\n",
    "top_five_counties_details"
   ]
  },
  {
   "cell_type": "code",
   "execution_count": 86,
   "metadata": {},
   "outputs": [],
   "source": [
    "x=np.array(top_five_counties_details['day_since_first_covid_case']).reshape(-1, 1)\n",
    "y=np.array(top_five_counties_details['Number of New cases'])"
   ]
  },
  {
   "cell_type": "code",
   "execution_count": 87,
   "metadata": {},
   "outputs": [],
   "source": [
    "# Defining Linear regression model funtion\n",
    "def LinearRegressionmodel(x_input,y_input):\n",
    "    X_train, X_test, y_train, y_test = train_test_split(x1,y1, train_size = 0.7, test_size = 0.3, random_state = 25)\n",
    "    model= LinearRegression()\n",
    "    model.fit(X_train,y_train)\n",
    "    p_y2 = model.predict(X_test)\n",
    "\n",
    "    #predicting path\n",
    "    p_days = 100\n",
    "    days = x[-1] + np.arange(p_days)\n",
    "    forecast = model.predict(days.reshape(-1, 1))\n",
    "    plt.plot(days, forecast, '--', color='black')\n",
    "\n",
    "    plt.scatter(X_test, y_test,  color='red')\n",
    "    plt.plot(X_test, p_y2, color='blue', linewidth=2)\n",
    "    plt.title('Linear Regression')\n",
    "    plt.xlabel('No_of_days_since_first_case')\n",
    "    plt.ylabel('Number of new cases')\n",
    "    plt.show()\n",
    "\n",
    "    print('Root Mean Square Error:', np.sqrt(metrics.mean_squared_error(y_test, p_y2)))\n",
    "    "
   ]
  },
  {
   "cell_type": "code",
   "execution_count": 88,
   "metadata": {},
   "outputs": [],
   "source": [
    "# Defining Polynomial Regression model function\n",
    "def PolynomialRegressionmodel(x_input,y_input):\n",
    "\n",
    "    poly_Reg = PolynomialFeatures(degree=4)\n",
    "    X_poly = poly_Reg.fit_transform(x)\n",
    "    pol_Reg = LinearRegression()\n",
    "    pol_Reg.fit(X_poly,y)   \n",
    "    p_y3= pol_Reg.predict(X_poly)\n",
    "\n",
    "    #predicting path\n",
    "    p_days = 100\n",
    "    days = x_input[-1] + np.arange(p_days)\n",
    "    fore_poly = poly_Reg.fit_transform(days.reshape(-1, 1))\n",
    "    forecast = pol_Reg.predict(fore_poly)\n",
    "    plt.plot(days, forecast, '--', color='black')\n",
    "\n",
    "    plt.scatter(x1, y1)\n",
    "    plt.plot(x1,p_y1,color='red')\n",
    "    plt.title('Polynomial Regression')\n",
    "    plt.xlabel('No_of_days_since_first_case')\n",
    "    plt.ylabel('Number of new cases')\n",
    "\n",
    "    plt.show()\n",
    "\n",
    "    print('Root Mean Square Error:', np.sqrt(metrics.mean_squared_error(y, p_y3)))\n",
    "\n",
    "    "
   ]
  },
  {
   "cell_type": "markdown",
   "metadata": {},
   "source": [
    "\n",
    "***These graphs also contain Forecast-Line***"
   ]
  },
  {
   "cell_type": "code",
   "execution_count": 89,
   "metadata": {},
   "outputs": [
    {
     "name": "stdout",
     "output_type": "stream",
     "text": [
      "County Name: genesee county\n"
     ]
    },
    {
     "data": {
      "image/png": "[encoded data removed]",
      "text/plain": [
       "<Figure size 432x288 with 1 Axes>"
      ]
     },
     "metadata": {
      "needs_background": "light"
     },
     "output_type": "display_data"
    },
    {
     "name": "stdout",
     "output_type": "stream",
     "text": [
      "Root Mean Square Error: 52.66033043330702\n"
     ]
    },
    {
     "data": {
      "image/png": "[encoded data removed]",
      "text/plain": [
       "<Figure size 432x288 with 1 Axes>"
      ]
     },
     "metadata": {
      "needs_background": "light"
     },
     "output_type": "display_data"
    },
    {
     "name": "stdout",
     "output_type": "stream",
     "text": [
      "Root Mean Square Error: 108.25770003855679\n"
     ]
    },
    {
     "data": {
      "image/png": "[encoded data removed]",
      "text/plain": [
       "<Figure size 432x288 with 1 Axes>"
      ]
     },
     "metadata": {
      "needs_background": "light"
     },
     "output_type": "display_data"
    },
    {
     "name": "stdout",
     "output_type": "stream",
     "text": [
      "Root Mean Square Error: 52.66033043330702\n"
     ]
    },
    {
     "data": {
      "image/png": "[encoded data removed]",
      "text/plain": [
       "<Figure size 432x288 with 1 Axes>"
      ]
     },
     "metadata": {
      "needs_background": "light"
     },
     "output_type": "display_data"
    },
    {
     "name": "stdout",
     "output_type": "stream",
     "text": [
      "Root Mean Square Error: 108.25770003855679\n",
      "County Name: kent county\n"
     ]
    },
    {
     "data": {
      "image/png": "[encoded data removed]",
      "text/plain": [
       "<Figure size 432x288 with 1 Axes>"
      ]
     },
     "metadata": {
      "needs_background": "light"
     },
     "output_type": "display_data"
    },
    {
     "name": "stdout",
     "output_type": "stream",
     "text": [
      "Root Mean Square Error: 52.66033043330702\n"
     ]
    },
    {
     "data": {
      "image/png": "[encoded data removed]",
      "text/plain": [
       "<Figure size 432x288 with 1 Axes>"
      ]
     },
     "metadata": {
      "needs_background": "light"
     },
     "output_type": "display_data"
    },
    {
     "name": "stdout",
     "output_type": "stream",
     "text": [
      "Root Mean Square Error: 185.78867123223392\n"
     ]
    },
    {
     "data": {
      "image/png": "[encoded data removed]",
      "text/plain": [
       "<Figure size 432x288 with 1 Axes>"
      ]
     },
     "metadata": {
      "needs_background": "light"
     },
     "output_type": "display_data"
    },
    {
     "name": "stdout",
     "output_type": "stream",
     "text": [
      "Root Mean Square Error: 52.66033043330702\n"
     ]
    },
    {
     "data": {
      "image/png": "[encoded data removed]",
      "text/plain": [
       "<Figure size 432x288 with 1 Axes>"
      ]
     },
     "metadata": {
      "needs_background": "light"
     },
     "output_type": "display_data"
    },
    {
     "name": "stdout",
     "output_type": "stream",
     "text": [
      "Root Mean Square Error: 185.78867123223392\n",
      "County Name: macomb county\n"
     ]
    },
    {
     "data": {
      "image/png": "[encoded data removed]",
      "text/plain": [
       "<Figure size 432x288 with 1 Axes>"
      ]
     },
     "metadata": {
      "needs_background": "light"
     },
     "output_type": "display_data"
    },
    {
     "name": "stdout",
     "output_type": "stream",
     "text": [
      "Root Mean Square Error: 52.66033043330702\n"
     ]
    },
    {
     "data": {
      "image/png": "[encoded data removed]",
      "text/plain": [
       "<Figure size 432x288 with 1 Axes>"
      ]
     },
     "metadata": {
      "needs_background": "light"
     },
     "output_type": "display_data"
    },
    {
     "name": "stdout",
     "output_type": "stream",
     "text": [
      "Root Mean Square Error: 253.8198943002081\n"
     ]
    },
    {
     "data": {
      "image/png": "[encoded data removed]",
      "text/plain": [
       "<Figure size 432x288 with 1 Axes>"
      ]
     },
     "metadata": {
      "needs_background": "light"
     },
     "output_type": "display_data"
    },
    {
     "name": "stdout",
     "output_type": "stream",
     "text": [
      "Root Mean Square Error: 52.66033043330702\n"
     ]
    },
    {
     "data": {
      "image/png": "[encoded data removed]",
      "text/plain": [
       "<Figure size 432x288 with 1 Axes>"
      ]
     },
     "metadata": {
      "needs_background": "light"
     },
     "output_type": "display_data"
    },
    {
     "name": "stdout",
     "output_type": "stream",
     "text": [
      "Root Mean Square Error: 253.8198943002081\n",
      "County Name: oakland county\n"
     ]
    },
    {
     "data": {
      "image/png": "[encoded data removed]",
      "text/plain": [
       "<Figure size 432x288 with 1 Axes>"
      ]
     },
     "metadata": {
      "needs_background": "light"
     },
     "output_type": "display_data"
    },
    {
     "name": "stdout",
     "output_type": "stream",
     "text": [
      "Root Mean Square Error: 52.66033043330702\n"
     ]
    },
    {
     "data": {
      "image/png": "[encoded data removed]",
      "text/plain": [
       "<Figure size 432x288 with 1 Axes>"
      ]
     },
     "metadata": {
      "needs_background": "light"
     },
     "output_type": "display_data"
    },
    {
     "name": "stdout",
     "output_type": "stream",
     "text": [
      "Root Mean Square Error: 288.7074888151241\n"
     ]
    },
    {
     "data": {
      "image/png": "[encoded data removed]",
      "text/plain": [
       "<Figure size 432x288 with 1 Axes>"
      ]
     },
     "metadata": {
      "needs_background": "light"
     },
     "output_type": "display_data"
    },
    {
     "name": "stdout",
     "output_type": "stream",
     "text": [
      "Root Mean Square Error: 52.66033043330702\n"
     ]
    },
    {
     "data": {
      "image/png": "[encoded data removed]",
      "text/plain": [
       "<Figure size 432x288 with 1 Axes>"
      ]
     },
     "metadata": {
      "needs_background": "light"
     },
     "output_type": "display_data"
    },
    {
     "name": "stdout",
     "output_type": "stream",
     "text": [
      "Root Mean Square Error: 288.7074888151241\n",
      "County Name: wayne county\n"
     ]
    },
    {
     "data": {
      "image/png": "[encoded data removed]",
      "text/plain": [
       "<Figure size 432x288 with 1 Axes>"
      ]
     },
     "metadata": {
      "needs_background": "light"
     },
     "output_type": "display_data"
    },
    {
     "name": "stdout",
     "output_type": "stream",
     "text": [
      "Root Mean Square Error: 52.66033043330702\n"
     ]
    },
    {
     "data": {
      "image/png": "[encoded data removed]",
      "text/plain": [
       "<Figure size 432x288 with 1 Axes>"
      ]
     },
     "metadata": {
      "needs_background": "light"
     },
     "output_type": "display_data"
    },
    {
     "name": "stdout",
     "output_type": "stream",
     "text": [
      "Root Mean Square Error: 377.7631940702452\n"
     ]
    },
    {
     "data": {
      "image/png": "[encoded data removed]",
      "text/plain": [
       "<Figure size 432x288 with 1 Axes>"
      ]
     },
     "metadata": {
      "needs_background": "light"
     },
     "output_type": "display_data"
    },
    {
     "name": "stdout",
     "output_type": "stream",
     "text": [
      "Root Mean Square Error: 52.66033043330702\n"
     ]
    },
    {
     "data": {
      "image/png": "[encoded data removed]",
      "text/plain": [
       "<Figure size 432x288 with 1 Axes>"
      ]
     },
     "metadata": {
      "needs_background": "light"
     },
     "output_type": "display_data"
    },
    {
     "name": "stdout",
     "output_type": "stream",
     "text": [
      "Root Mean Square Error: 377.7631940702452\n"
     ]
    }
   ],
   "source": [
    "for county in top_five_counties_details['County Name'].unique():\n",
    "    print(\"County Name:\",county)\n",
    "    grouped_county_data = top_five_counties_details[top_five_counties_details['County Name'] == county]\n",
    "    \n",
    "    x = np.array(grouped_county_data[['day_since_first_covid_case']])\n",
    "    y = np.array(grouped_county_data[['Number of New cases']])\n",
    "    z = np.array(grouped_county_data[['Number of New deaths']])\n",
    "\n",
    "    LinearRegressionmodel(x,y)\n",
    "    PolynomialRegressionmodel(x,y)\n",
    "    \n",
    "    LinearRegressionmodel(x, z)\n",
    "    PolynomialRegressionmodel(x, z)\n"
   ]
  },
  {
   "cell_type": "markdown",
   "metadata": {},
   "source": [
    "***TrendLine & Confidence Intervel for Most affected counties in michigan state on New Cases column***"
   ]
  },
  {
   "cell_type": "code",
   "execution_count": 90,
   "metadata": {},
   "outputs": [
    {
     "name": "stdout",
     "output_type": "stream",
     "text": [
      "County Name: genesee county\n"
     ]
    },
    {
     "data": {
      "image/png": "[encoded data removed]",
      "text/plain": [
       "<Figure size 432x288 with 1 Axes>"
      ]
     },
     "metadata": {
      "needs_background": "light"
     },
     "output_type": "display_data"
    },
    {
     "name": "stdout",
     "output_type": "stream",
     "text": [
      "County Name: kent county\n"
     ]
    },
    {
     "data": {
      "image/png": "[encoded data removed]",
      "text/plain": [
       "<Figure size 432x288 with 1 Axes>"
      ]
     },
     "metadata": {
      "needs_background": "light"
     },
     "output_type": "display_data"
    },
    {
     "name": "stdout",
     "output_type": "stream",
     "text": [
      "County Name: macomb county\n"
     ]
    },
    {
     "data": {
      "image/png": "[encoded data removed]",
      "text/plain": [
       "<Figure size 432x288 with 1 Axes>"
      ]
     },
     "metadata": {
      "needs_background": "light"
     },
     "output_type": "display_data"
    },
    {
     "name": "stdout",
     "output_type": "stream",
     "text": [
      "County Name: oakland county\n"
     ]
    },
    {
     "data": {
      "image/png": "[encoded data removed]",
      "text/plain": [
       "<Figure size 432x288 with 1 Axes>"
      ]
     },
     "metadata": {
      "needs_background": "light"
     },
     "output_type": "display_data"
    },
    {
     "name": "stdout",
     "output_type": "stream",
     "text": [
      "County Name: wayne county\n"
     ]
    },
    {
     "data": {
      "image/png": "[encoded data removed]",
      "text/plain": [
       "<Figure size 432x288 with 1 Axes>"
      ]
     },
     "metadata": {
      "needs_background": "light"
     },
     "output_type": "display_data"
    },
    {
     "data": {
      "image/png": "[encoded data removed]",
      "text/plain": [
       "<Figure size 432x288 with 1 Axes>"
      ]
     },
     "metadata": {
      "needs_background": "light"
     },
     "output_type": "display_data"
    }
   ],
   "source": [
    "for county in top_five_counties_details['County Name'].unique():\n",
    "    print(\"County Name:\",county)\n",
    "    grouped_county_data = top_five_counties_details[top_five_counties_details['County Name'] == county]\n",
    "    \n",
    "    x = grouped_county_data['day_since_first_covid_case']\n",
    "    y = grouped_county_data['Number of New cases']\n",
    "\n",
    "    TrendLine(x,y)\n",
    "    ConfidenceIntervel(x,y)\n",
    "\n",
    "    "
   ]
  },
  {
   "cell_type": "markdown",
   "metadata": {},
   "source": [
    "***TrendLine & Confidence Intervel for Most affected counties in Michigan state on New deaths column***"
   ]
  },
  {
   "cell_type": "code",
   "execution_count": 91,
   "metadata": {},
   "outputs": [
    {
     "name": "stdout",
     "output_type": "stream",
     "text": [
      "County Name: genesee county\n"
     ]
    },
    {
     "data": {
      "image/png": "[encoded data removed]",
      "text/plain": [
       "<Figure size 432x288 with 1 Axes>"
      ]
     },
     "metadata": {
      "needs_background": "light"
     },
     "output_type": "display_data"
    },
    {
     "name": "stdout",
     "output_type": "stream",
     "text": [
      "County Name: kent county\n"
     ]
    },
    {
     "data": {
      "image/png": "[encoded data removed]",
      "text/plain": [
       "<Figure size 432x288 with 1 Axes>"
      ]
     },
     "metadata": {
      "needs_background": "light"
     },
     "output_type": "display_data"
    },
    {
     "name": "stdout",
     "output_type": "stream",
     "text": [
      "County Name: macomb county\n"
     ]
    },
    {
     "data": {
      "image/png": "[encoded data removed]",
      "text/plain": [
       "<Figure size 432x288 with 1 Axes>"
      ]
     },
     "metadata": {
      "needs_background": "light"
     },
     "output_type": "display_data"
    },
    {
     "name": "stdout",
     "output_type": "stream",
     "text": [
      "County Name: oakland county\n"
     ]
    },
    {
     "data": {
      "image/png": "[encoded data removed]",
      "text/plain": [
       "<Figure size 432x288 with 1 Axes>"
      ]
     },
     "metadata": {
      "needs_background": "light"
     },
     "output_type": "display_data"
    },
    {
     "name": "stdout",
     "output_type": "stream",
     "text": [
      "County Name: wayne county\n"
     ]
    },
    {
     "data": {
      "image/png": "[encoded data removed]",
      "text/plain": [
       "<Figure size 432x288 with 1 Axes>"
      ]
     },
     "metadata": {
      "needs_background": "light"
     },
     "output_type": "display_data"
    },
    {
     "data": {
      "image/png": "[encoded data removed]",
      "text/plain": [
       "<Figure size 432x288 with 1 Axes>"
      ]
     },
     "metadata": {
      "needs_background": "light"
     },
     "output_type": "display_data"
    }
   ],
   "source": [
    "for county in top_five_counties_details['County Name'].unique():\n",
    "    print(\"County Name:\",county)\n",
    "    grouped_county_data = top_five_counties_details[top_five_counties_details['County Name'] == county]\n",
    "    \n",
    "    x = grouped_county_data['day_since_first_covid_case']\n",
    "    y = grouped_county_data['Number of New deaths']\n",
    "\n",
    "    TrendLine(x,y)\n",
    "    ConfidenceIntervel(x,y)"
   ]
  },
  {
   "cell_type": "code",
   "execution_count": 92,
   "metadata": {},
   "outputs": [
    {
     "data": {
      "text/html": [
       "<div>\n",
       "<style scoped>\n",
       "    .dataframe tbody tr th:only-of-type {\n",
       "        vertical-align: middle;\n",
       "    }\n",
       "\n",
       "    .dataframe tbody tr th {\n",
       "        vertical-align: top;\n",
       "    }\n",
       "\n",
       "    .dataframe thead th {\n",
       "        text-align: right;\n",
       "    }\n",
       "</style>\n",
       "<table border=\"1\" class=\"dataframe\">\n",
       "  <thead>\n",
       "    <tr style=\"text-align: right;\">\n",
       "      <th></th>\n",
       "      <th>state</th>\n",
       "      <th>county</th>\n",
       "      <th>current_votes</th>\n",
       "      <th>total_votes</th>\n",
       "      <th>percent</th>\n",
       "      <th>countyFIPS</th>\n",
       "      <th>StateFIPS</th>\n",
       "      <th>date</th>\n",
       "      <th>confirmed</th>\n",
       "      <th>deaths</th>\n",
       "      <th>population</th>\n",
       "    </tr>\n",
       "  </thead>\n",
       "  <tbody>\n",
       "    <tr>\n",
       "      <th>0</th>\n",
       "      <td>MI</td>\n",
       "      <td>barry county</td>\n",
       "      <td>15527</td>\n",
       "      <td>15598</td>\n",
       "      <td>100</td>\n",
       "      <td>26015</td>\n",
       "      <td>26</td>\n",
       "      <td>2020-01-22</td>\n",
       "      <td>0</td>\n",
       "      <td>0</td>\n",
       "      <td>61550</td>\n",
       "    </tr>\n",
       "    <tr>\n",
       "      <th>1</th>\n",
       "      <td>MI</td>\n",
       "      <td>barry county</td>\n",
       "      <td>15527</td>\n",
       "      <td>15598</td>\n",
       "      <td>100</td>\n",
       "      <td>26015</td>\n",
       "      <td>26</td>\n",
       "      <td>2020-01-23</td>\n",
       "      <td>0</td>\n",
       "      <td>0</td>\n",
       "      <td>61550</td>\n",
       "    </tr>\n",
       "    <tr>\n",
       "      <th>2</th>\n",
       "      <td>MI</td>\n",
       "      <td>barry county</td>\n",
       "      <td>15527</td>\n",
       "      <td>15598</td>\n",
       "      <td>100</td>\n",
       "      <td>26015</td>\n",
       "      <td>26</td>\n",
       "      <td>2020-01-24</td>\n",
       "      <td>0</td>\n",
       "      <td>0</td>\n",
       "      <td>61550</td>\n",
       "    </tr>\n",
       "    <tr>\n",
       "      <th>3</th>\n",
       "      <td>MI</td>\n",
       "      <td>barry county</td>\n",
       "      <td>15527</td>\n",
       "      <td>15598</td>\n",
       "      <td>100</td>\n",
       "      <td>26015</td>\n",
       "      <td>26</td>\n",
       "      <td>2020-01-25</td>\n",
       "      <td>0</td>\n",
       "      <td>0</td>\n",
       "      <td>61550</td>\n",
       "    </tr>\n",
       "    <tr>\n",
       "      <th>4</th>\n",
       "      <td>MI</td>\n",
       "      <td>barry county</td>\n",
       "      <td>15527</td>\n",
       "      <td>15598</td>\n",
       "      <td>100</td>\n",
       "      <td>26015</td>\n",
       "      <td>26</td>\n",
       "      <td>2020-01-26</td>\n",
       "      <td>0</td>\n",
       "      <td>0</td>\n",
       "      <td>61550</td>\n",
       "    </tr>\n",
       "    <tr>\n",
       "      <th>...</th>\n",
       "      <td>...</td>\n",
       "      <td>...</td>\n",
       "      <td>...</td>\n",
       "      <td>...</td>\n",
       "      <td>...</td>\n",
       "      <td>...</td>\n",
       "      <td>...</td>\n",
       "      <td>...</td>\n",
       "      <td>...</td>\n",
       "      <td>...</td>\n",
       "      <td>...</td>\n",
       "    </tr>\n",
       "    <tr>\n",
       "      <th>164446</th>\n",
       "      <td>WV</td>\n",
       "      <td>wyoming county</td>\n",
       "      <td>8320</td>\n",
       "      <td>8592</td>\n",
       "      <td>100</td>\n",
       "      <td>54109</td>\n",
       "      <td>54</td>\n",
       "      <td>2021-08-12</td>\n",
       "      <td>2185</td>\n",
       "      <td>41</td>\n",
       "      <td>20394</td>\n",
       "    </tr>\n",
       "    <tr>\n",
       "      <th>164447</th>\n",
       "      <td>WV</td>\n",
       "      <td>wyoming county</td>\n",
       "      <td>8320</td>\n",
       "      <td>8592</td>\n",
       "      <td>100</td>\n",
       "      <td>54109</td>\n",
       "      <td>54</td>\n",
       "      <td>2021-08-13</td>\n",
       "      <td>2185</td>\n",
       "      <td>41</td>\n",
       "      <td>20394</td>\n",
       "    </tr>\n",
       "    <tr>\n",
       "      <th>164448</th>\n",
       "      <td>WV</td>\n",
       "      <td>wyoming county</td>\n",
       "      <td>8320</td>\n",
       "      <td>8592</td>\n",
       "      <td>100</td>\n",
       "      <td>54109</td>\n",
       "      <td>54</td>\n",
       "      <td>2021-08-14</td>\n",
       "      <td>2185</td>\n",
       "      <td>41</td>\n",
       "      <td>20394</td>\n",
       "    </tr>\n",
       "    <tr>\n",
       "      <th>164449</th>\n",
       "      <td>WV</td>\n",
       "      <td>wyoming county</td>\n",
       "      <td>8320</td>\n",
       "      <td>8592</td>\n",
       "      <td>100</td>\n",
       "      <td>54109</td>\n",
       "      <td>54</td>\n",
       "      <td>2021-08-15</td>\n",
       "      <td>2185</td>\n",
       "      <td>41</td>\n",
       "      <td>20394</td>\n",
       "    </tr>\n",
       "    <tr>\n",
       "      <th>164450</th>\n",
       "      <td>WV</td>\n",
       "      <td>wyoming county</td>\n",
       "      <td>8320</td>\n",
       "      <td>8592</td>\n",
       "      <td>100</td>\n",
       "      <td>54109</td>\n",
       "      <td>54</td>\n",
       "      <td>2021-08-16</td>\n",
       "      <td>2211</td>\n",
       "      <td>41</td>\n",
       "      <td>20394</td>\n",
       "    </tr>\n",
       "  </tbody>\n",
       "</table>\n",
       "<p>164451 rows × 11 columns</p>\n",
       "</div>"
      ],
      "text/plain": [
       "       state          county  current_votes  total_votes  percent  countyFIPS  \\\n",
       "0         MI    barry county          15527        15598      100       26015   \n",
       "1         MI    barry county          15527        15598      100       26015   \n",
       "2         MI    barry county          15527        15598      100       26015   \n",
       "3         MI    barry county          15527        15598      100       26015   \n",
       "4         MI    barry county          15527        15598      100       26015   \n",
       "...      ...             ...            ...          ...      ...         ...   \n",
       "164446    WV  wyoming county           8320         8592      100       54109   \n",
       "164447    WV  wyoming county           8320         8592      100       54109   \n",
       "164448    WV  wyoming county           8320         8592      100       54109   \n",
       "164449    WV  wyoming county           8320         8592      100       54109   \n",
       "164450    WV  wyoming county           8320         8592      100       54109   \n",
       "\n",
       "        StateFIPS        date  confirmed  deaths  population  \n",
       "0              26  2020-01-22          0       0       61550  \n",
       "1              26  2020-01-23          0       0       61550  \n",
       "2              26  2020-01-24          0       0       61550  \n",
       "3              26  2020-01-25          0       0       61550  \n",
       "4              26  2020-01-26          0       0       61550  \n",
       "...           ...         ...        ...     ...         ...  \n",
       "164446         54  2021-08-12       2185      41       20394  \n",
       "164447         54  2021-08-13       2185      41       20394  \n",
       "164448         54  2021-08-14       2185      41       20394  \n",
       "164449         54  2021-08-15       2185      41       20394  \n",
       "164450         54  2021-08-16       2211      41       20394  \n",
       "\n",
       "[164451 rows x 11 columns]"
      ]
     },
     "execution_count": 92,
     "metadata": {},
     "output_type": "execute_result"
    }
   ],
   "source": [
    "#reading enrichment data\n",
    "Enrichment_data=pd.read_csv(\"../../../data/merging_covid_enrichment_data.csv\")\n",
    "Enrichment_data"
   ]
  },
  {
   "cell_type": "code",
   "execution_count": 93,
   "metadata": {},
   "outputs": [
    {
     "data": {
      "text/html": [
       "<div>\n",
       "<style scoped>\n",
       "    .dataframe tbody tr th:only-of-type {\n",
       "        vertical-align: middle;\n",
       "    }\n",
       "\n",
       "    .dataframe tbody tr th {\n",
       "        vertical-align: top;\n",
       "    }\n",
       "\n",
       "    .dataframe thead th {\n",
       "        text-align: right;\n",
       "    }\n",
       "</style>\n",
       "<table border=\"1\" class=\"dataframe\">\n",
       "  <thead>\n",
       "    <tr style=\"text-align: right;\">\n",
       "      <th></th>\n",
       "      <th>state</th>\n",
       "      <th>county</th>\n",
       "      <th>current_votes</th>\n",
       "      <th>total_votes</th>\n",
       "      <th>percent</th>\n",
       "      <th>date</th>\n",
       "      <th>confirmed</th>\n",
       "      <th>deaths</th>\n",
       "      <th>population</th>\n",
       "      <th>Number of New Cases</th>\n",
       "      <th>Number of New deaths</th>\n",
       "    </tr>\n",
       "  </thead>\n",
       "  <tbody>\n",
       "    <tr>\n",
       "      <th>1</th>\n",
       "      <td>MI</td>\n",
       "      <td>barry county</td>\n",
       "      <td>15527</td>\n",
       "      <td>15598</td>\n",
       "      <td>100</td>\n",
       "      <td>2020-01-23</td>\n",
       "      <td>0</td>\n",
       "      <td>0</td>\n",
       "      <td>61550</td>\n",
       "      <td>0.0</td>\n",
       "      <td>0.0</td>\n",
       "    </tr>\n",
       "    <tr>\n",
       "      <th>2</th>\n",
       "      <td>MI</td>\n",
       "      <td>barry county</td>\n",
       "      <td>15527</td>\n",
       "      <td>15598</td>\n",
       "      <td>100</td>\n",
       "      <td>2020-01-24</td>\n",
       "      <td>0</td>\n",
       "      <td>0</td>\n",
       "      <td>61550</td>\n",
       "      <td>0.0</td>\n",
       "      <td>0.0</td>\n",
       "    </tr>\n",
       "    <tr>\n",
       "      <th>3</th>\n",
       "      <td>MI</td>\n",
       "      <td>barry county</td>\n",
       "      <td>15527</td>\n",
       "      <td>15598</td>\n",
       "      <td>100</td>\n",
       "      <td>2020-01-25</td>\n",
       "      <td>0</td>\n",
       "      <td>0</td>\n",
       "      <td>61550</td>\n",
       "      <td>0.0</td>\n",
       "      <td>0.0</td>\n",
       "    </tr>\n",
       "    <tr>\n",
       "      <th>4</th>\n",
       "      <td>MI</td>\n",
       "      <td>barry county</td>\n",
       "      <td>15527</td>\n",
       "      <td>15598</td>\n",
       "      <td>100</td>\n",
       "      <td>2020-01-26</td>\n",
       "      <td>0</td>\n",
       "      <td>0</td>\n",
       "      <td>61550</td>\n",
       "      <td>0.0</td>\n",
       "      <td>0.0</td>\n",
       "    </tr>\n",
       "    <tr>\n",
       "      <th>5</th>\n",
       "      <td>MI</td>\n",
       "      <td>barry county</td>\n",
       "      <td>15527</td>\n",
       "      <td>15598</td>\n",
       "      <td>100</td>\n",
       "      <td>2020-01-27</td>\n",
       "      <td>0</td>\n",
       "      <td>0</td>\n",
       "      <td>61550</td>\n",
       "      <td>0.0</td>\n",
       "      <td>0.0</td>\n",
       "    </tr>\n",
       "    <tr>\n",
       "      <th>...</th>\n",
       "      <td>...</td>\n",
       "      <td>...</td>\n",
       "      <td>...</td>\n",
       "      <td>...</td>\n",
       "      <td>...</td>\n",
       "      <td>...</td>\n",
       "      <td>...</td>\n",
       "      <td>...</td>\n",
       "      <td>...</td>\n",
       "      <td>...</td>\n",
       "      <td>...</td>\n",
       "    </tr>\n",
       "    <tr>\n",
       "      <th>5725</th>\n",
       "      <td>MI</td>\n",
       "      <td>wayne county</td>\n",
       "      <td>5813</td>\n",
       "      <td>5878</td>\n",
       "      <td>100</td>\n",
       "      <td>2021-08-12</td>\n",
       "      <td>170477</td>\n",
       "      <td>5225</td>\n",
       "      <td>1749343</td>\n",
       "      <td>0.0</td>\n",
       "      <td>0.0</td>\n",
       "    </tr>\n",
       "    <tr>\n",
       "      <th>5726</th>\n",
       "      <td>MI</td>\n",
       "      <td>wayne county</td>\n",
       "      <td>5813</td>\n",
       "      <td>5878</td>\n",
       "      <td>100</td>\n",
       "      <td>2021-08-13</td>\n",
       "      <td>171056</td>\n",
       "      <td>5229</td>\n",
       "      <td>1749343</td>\n",
       "      <td>579.0</td>\n",
       "      <td>4.0</td>\n",
       "    </tr>\n",
       "    <tr>\n",
       "      <th>5727</th>\n",
       "      <td>MI</td>\n",
       "      <td>wayne county</td>\n",
       "      <td>5813</td>\n",
       "      <td>5878</td>\n",
       "      <td>100</td>\n",
       "      <td>2021-08-14</td>\n",
       "      <td>171056</td>\n",
       "      <td>5229</td>\n",
       "      <td>1749343</td>\n",
       "      <td>0.0</td>\n",
       "      <td>0.0</td>\n",
       "    </tr>\n",
       "    <tr>\n",
       "      <th>5728</th>\n",
       "      <td>MI</td>\n",
       "      <td>wayne county</td>\n",
       "      <td>5813</td>\n",
       "      <td>5878</td>\n",
       "      <td>100</td>\n",
       "      <td>2021-08-15</td>\n",
       "      <td>171056</td>\n",
       "      <td>5229</td>\n",
       "      <td>1749343</td>\n",
       "      <td>0.0</td>\n",
       "      <td>0.0</td>\n",
       "    </tr>\n",
       "    <tr>\n",
       "      <th>5729</th>\n",
       "      <td>MI</td>\n",
       "      <td>wayne county</td>\n",
       "      <td>5813</td>\n",
       "      <td>5878</td>\n",
       "      <td>100</td>\n",
       "      <td>2021-08-16</td>\n",
       "      <td>171731</td>\n",
       "      <td>5229</td>\n",
       "      <td>1749343</td>\n",
       "      <td>675.0</td>\n",
       "      <td>0.0</td>\n",
       "    </tr>\n",
       "  </tbody>\n",
       "</table>\n",
       "<p>5729 rows × 11 columns</p>\n",
       "</div>"
      ],
      "text/plain": [
       "     state        county  current_votes  total_votes  percent        date  \\\n",
       "1       MI  barry county          15527        15598      100  2020-01-23   \n",
       "2       MI  barry county          15527        15598      100  2020-01-24   \n",
       "3       MI  barry county          15527        15598      100  2020-01-25   \n",
       "4       MI  barry county          15527        15598      100  2020-01-26   \n",
       "5       MI  barry county          15527        15598      100  2020-01-27   \n",
       "...    ...           ...            ...          ...      ...         ...   \n",
       "5725    MI  wayne county           5813         5878      100  2021-08-12   \n",
       "5726    MI  wayne county           5813         5878      100  2021-08-13   \n",
       "5727    MI  wayne county           5813         5878      100  2021-08-14   \n",
       "5728    MI  wayne county           5813         5878      100  2021-08-15   \n",
       "5729    MI  wayne county           5813         5878      100  2021-08-16   \n",
       "\n",
       "      confirmed  deaths  population  Number of New Cases  Number of New deaths  \n",
       "1             0       0       61550                  0.0                   0.0  \n",
       "2             0       0       61550                  0.0                   0.0  \n",
       "3             0       0       61550                  0.0                   0.0  \n",
       "4             0       0       61550                  0.0                   0.0  \n",
       "5             0       0       61550                  0.0                   0.0  \n",
       "...         ...     ...         ...                  ...                   ...  \n",
       "5725     170477    5225     1749343                  0.0                   0.0  \n",
       "5726     171056    5229     1749343                579.0                   4.0  \n",
       "5727     171056    5229     1749343                  0.0                   0.0  \n",
       "5728     171056    5229     1749343                  0.0                   0.0  \n",
       "5729     171731    5229     1749343                675.0                   0.0  \n",
       "\n",
       "[5729 rows x 11 columns]"
      ]
     },
     "execution_count": 93,
     "metadata": {},
     "output_type": "execute_result"
    }
   ],
   "source": [
    "Enrichment_data=Enrichment_data.drop(['StateFIPS','countyFIPS'],axis=1)\n",
    "Enrichment_data['Number of New Cases']=Enrichment_data['confirmed'].diff()\n",
    "Enrichment_data['Number of New deaths']=Enrichment_data['deaths'].diff()\n",
    "Enrichment_data=Enrichment_data.dropna()\n",
    "Enrichment_data=Enrichment_data[Enrichment_data['state']=='MI']\n",
    "Enrichment_data"
   ]
  },
  {
   "cell_type": "markdown",
   "metadata": {},
   "source": [
    "***Hypothesis testing***"
   ]
  },
  {
   "cell_type": "markdown",
   "metadata": {},
   "source": [
    "***Assuming that our hypothesis are: Null Hypothesis: A >= B; Alternative Hypothesis: A < B.***\n"
   ]
  },
  {
   "cell_type": "code",
   "execution_count": 94,
   "metadata": {},
   "outputs": [],
   "source": [
    "def twotailonesample(A,B):\n",
    "    A.mean()\n",
    "    B.mean()\n",
    "    print(stats.ttest_ind(A, B, axis=0, equal_var=True))"
   ]
  },
  {
   "cell_type": "code",
   "execution_count": 95,
   "metadata": {},
   "outputs": [],
   "source": [
    "A=np.array(Enrichment_data['total_votes'])\n",
    "B=np.array(data['Number of new cases'])"
   ]
  },
  {
   "cell_type": "code",
   "execution_count": 96,
   "metadata": {},
   "outputs": [
    {
     "name": "stdout",
     "output_type": "stream",
     "text": [
      "Ttest_indResult(statistic=-10.267428898911987, pvalue=1.546215197911872e-24)\n"
     ]
    }
   ],
   "source": [
    "twotailonesample(B,A)"
   ]
  },
  {
   "cell_type": "code",
   "execution_count": 97,
   "metadata": {},
   "outputs": [
    {
     "name": "stdout",
     "output_type": "stream",
     "text": [
      "Ttest_indResult(statistic=10.267428898911987, pvalue=1.546215197911872e-24)\n"
     ]
    }
   ],
   "source": [
    "twotailonesample(A,B)"
   ]
  },
  {
   "cell_type": "markdown",
   "metadata": {},
   "source": [
    "****I have noticed that no matter whether or not we write 'ttest_ind(A,B)' or 'ttest_ind(B,A)'. The statistics and p-value does not change. Because By default, Python Scipy library does not give an option for us to perform one-tailed two sample test. The p-value is computed based on the assumption of two-tailed two sample test.****"
   ]
  },
  {
   "cell_type": "markdown",
   "metadata": {},
   "source": [
    "***As the real p value is so close to 1, we cannot reject the null hypothesis***"
   ]
  },
  {
   "cell_type": "code",
   "execution_count": 98,
   "metadata": {},
   "outputs": [],
   "source": [
    "C=np.array(Enrichment_data['current_votes'])\n",
    "D=np.array(data['Number of new cases'])"
   ]
  },
  {
   "cell_type": "code",
   "execution_count": 99,
   "metadata": {},
   "outputs": [
    {
     "name": "stdout",
     "output_type": "stream",
     "text": [
      "Ttest_indResult(statistic=10.266008951544261, pvalue=1.568751529543907e-24)\n"
     ]
    }
   ],
   "source": [
    "twotailonesample(C,D)"
   ]
  },
  {
   "cell_type": "markdown",
   "metadata": {},
   "source": [
    "***As the real p value is so close to 1, we cannot reject the null hypothesis***"
   ]
  },
  {
   "cell_type": "code",
   "execution_count": 100,
   "metadata": {},
   "outputs": [],
   "source": [
    "E=np.array(Enrichment_data['percent'])\n",
    "F=np.array(data['Number of new cases'])"
   ]
  },
  {
   "cell_type": "code",
   "execution_count": 101,
   "metadata": {},
   "outputs": [
    {
     "name": "stdout",
     "output_type": "stream",
     "text": [
      "Ttest_indResult(statistic=-52.90266196595491, pvalue=0.0)\n"
     ]
    }
   ],
   "source": [
    "twotailonesample(E,F)"
   ]
  },
  {
   "cell_type": "markdown",
   "metadata": {},
   "source": [
    "***As the real p value is 0, we can reject the null hypothesis***"
   ]
  },
  {
   "cell_type": "code",
   "execution_count": 102,
   "metadata": {},
   "outputs": [],
   "source": [
    "G=np.array(Enrichment_data['total_votes'])\n",
    "H=np.array(data['Number of new deaths'])"
   ]
  },
  {
   "cell_type": "code",
   "execution_count": 103,
   "metadata": {},
   "outputs": [
    {
     "name": "stdout",
     "output_type": "stream",
     "text": [
      "Ttest_indResult(statistic=10.708576820886814, pvalue=1.5740531702846445e-26)\n"
     ]
    }
   ],
   "source": [
    "twotailonesample(G,H)"
   ]
  },
  {
   "cell_type": "markdown",
   "metadata": {},
   "source": [
    "***As the real p value is so close to 1, we cannot reject the null hypothesis***"
   ]
  },
  {
   "cell_type": "code",
   "execution_count": 104,
   "metadata": {},
   "outputs": [],
   "source": [
    "I=np.array(Enrichment_data['percent'])\n",
    "J=np.array(data['Number of new deaths'])"
   ]
  },
  {
   "cell_type": "code",
   "execution_count": 105,
   "metadata": {},
   "outputs": [
    {
     "name": "stdout",
     "output_type": "stream",
     "text": [
      "Ttest_indResult(statistic=84.32437854025726, pvalue=0.0)\n"
     ]
    }
   ],
   "source": [
    "twotailonesample(I,J)"
   ]
  },
  {
   "cell_type": "markdown",
   "metadata": {},
   "source": [
    "***As the real p value is 0, we can reject the null hypothesis***"
   ]
  }
 ],
 "metadata": {
  "interpreter": {
   "hash": "a25b2d42e0fe57251b6ece2b75d30429fe26895efea1faac6949f166a7477be7"
  },
  "kernelspec": {
   "display_name": "Python 3 (ipykernel)",
   "language": "python",
   "name": "python3"
  },
  "language_info": {
   "codemirror_mode": {
    "name": "ipython",
    "version": 3
   },
   "file_extension": ".py",
   "mimetype": "text/x-python",
   "name": "python",
   "nbconvert_exporter": "python",
   "pygments_lexer": "ipython3",
   "version": "3.10.2"
  }
 },
 "nbformat": 4,
 "nbformat_minor": 2
}
